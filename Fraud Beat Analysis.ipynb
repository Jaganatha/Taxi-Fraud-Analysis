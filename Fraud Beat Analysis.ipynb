{
 "cells": [
  {
   "cell_type": "code",
   "execution_count": 1,
   "metadata": {},
   "outputs": [],
   "source": [
    "import pandas as pd\n",
    "import numpy as np\n",
    "import seaborn as sns\n",
    "color = sns.color_palette()\n",
    "import matplotlib\n",
    "import matplotlib.pyplot as plt\n",
    "%matplotlib inline\n",
    "import os\n",
    "import datetime\n",
    "import math"
   ]
  },
  {
   "cell_type": "code",
   "execution_count": 2,
   "metadata": {},
   "outputs": [],
   "source": [
    "df_req = pd.read_csv(\"request.csv\")\n",
    "#df_ride = pd.read_csv(\"ride.csv\")"
   ]
  },
  {
   "cell_type": "code",
   "execution_count": 3,
   "metadata": {},
   "outputs": [],
   "source": [
    "#df_ride.isnull().sum(axis = 0)\n",
    "#df_req.isnull().sum(axis = 0)"
   ]
  },
  {
   "cell_type": "code",
   "execution_count": 4,
   "metadata": {},
   "outputs": [],
   "source": [
    "#df_req.info()\n"
   ]
  },
  {
   "cell_type": "code",
   "execution_count": 3,
   "metadata": {},
   "outputs": [],
   "source": [
    "#NOTE: duration estimate is not available for cancelled_at rows (trips that have passenger cancelled scenario)\n",
    "df_req_cpy = df_req.copy()\n",
    "df_ride_cpy = df_ride.copy()\n",
    "#df_req.drop(\"cancelled_at_time\", axis = 1, inplace = True)"
   ]
  },
  {
   "cell_type": "code",
   "execution_count": 5,
   "metadata": {},
   "outputs": [],
   "source": [
    "df_req[\"cancelled_at\"] = pd.to_datetime(df_req[\"cancelled_at\"])\n",
    "df_req[\"created_at\"] = pd.to_datetime(df_req[\"created_at\"])\n",
    "df_req[\"created_at_day\"] = [d.date() for d in df_req[\"created_at\"]]\n",
    "df_req[\"created_at_hour\"] = [d.time() for d in df_req[\"created_at\"]]\n",
    "#to replace NaT with zeros\n",
    "df_req[\"cancelled_at_day\"] = [d.date() if pd.isnull(d) != True else 0 for d in df_req[\"cancelled_at\"]]\n",
    "#df_req[\"cancelled_at_day\"] = pd.to_datetime(df_req[\"cancelled_at_day\"])\n",
    "df_req[\"cancelled_at_hour\"] =[d.time() if pd.isnull(d) != True else 0 for d in df_req[\"cancelled_at\"]]\n",
    "\n",
    "#df_req[\"cancelled_at_hour\"] = pd.to_datetime(df_req[\"cancelled_at_hour\"])\n",
    "df_req[\"cancelled_at\"] = [d if pd.isnull(d) != True else 0 for d in df_req[\"cancelled_at\"]]\n",
    "\n",
    "\n",
    "#Created_at time features (reducing the granularity for the ease of analysis)\n",
    "df_req['Cre_Day_No_Week'] = df_req['created_at'].dt.dayofweek\n",
    "df_req['Cre_Day_Name'] = df_req['created_at'].dt.weekday_name\n",
    "df_req['Cre_Week_No'] = df_req['created_at'].dt.week\n",
    "df_req['Cre_HourOfDay'] = df_req['created_at'].dt.hour\n",
    "df_req['Cre_MinOfDay'] = df_req['created_at'].dt.minute\n",
    "\n",
    "#run this again to prevent errors\n",
    "#df_req[\"cancelled_at_hour\"] =[d.time() if d != 0 else 0 for d in df_req[\"cancelled_at\"]]   #latest working - try if things dont work\n",
    "#replace 0 with np.nan so that week num is intuitive and for further breakdown of date and time\n",
    "df_req[\"cancelled_at\"] = df_req[\"cancelled_at\"].map(lambda x: np.nan if x == 0 else x)\n",
    "\n",
    "#Cancelled_at time features (reducing the granularity for the ease of analysis)\n",
    "df_req['Ccl_Day_No_Week'] = df_req['cancelled_at'].dt.dayofweek\n",
    "df_req['Ccl_Day_Name'] = df_req['cancelled_at'].dt.weekday_name\n",
    "df_req['Ccl_Week_No'] = df_req['cancelled_at'].dt.week\n",
    "df_req['Ccl_HourOfDay'] = df_req['cancelled_at'].dt.hour\n",
    "df_req['Ccl_MinOfDay'] = df_req['cancelled_at'].dt.minute\n"
   ]
  },
  {
   "cell_type": "code",
   "execution_count": 16,
   "metadata": {},
   "outputs": [
    {
     "data": {
      "text/html": [
       "<div>\n",
       "<style scoped>\n",
       "    .dataframe tbody tr th:only-of-type {\n",
       "        vertical-align: middle;\n",
       "    }\n",
       "\n",
       "    .dataframe tbody tr th {\n",
       "        vertical-align: top;\n",
       "    }\n",
       "\n",
       "    .dataframe thead th {\n",
       "        text-align: right;\n",
       "    }\n",
       "</style>\n",
       "<table border=\"1\" class=\"dataframe\">\n",
       "  <thead>\n",
       "    <tr style=\"text-align: right;\">\n",
       "      <th></th>\n",
       "      <th>id_request</th>\n",
       "      <th>id_passenger</th>\n",
       "      <th>id_city</th>\n",
       "      <th>from_latitude</th>\n",
       "      <th>from_longitude</th>\n",
       "      <th>to_latitude</th>\n",
       "      <th>to_longitude</th>\n",
       "      <th>created_at</th>\n",
       "      <th>cancelled_at</th>\n",
       "      <th>timedout_at</th>\n",
       "      <th>...</th>\n",
       "      <th>Cre_Day_No_Week</th>\n",
       "      <th>Cre_Day_Name</th>\n",
       "      <th>Cre_Week_No</th>\n",
       "      <th>Cre_HourOfDay</th>\n",
       "      <th>Cre_MinOfDay</th>\n",
       "      <th>Ccl_Day_No_Week</th>\n",
       "      <th>Ccl_Day_Name</th>\n",
       "      <th>Ccl_Week_No</th>\n",
       "      <th>Ccl_HourOfDay</th>\n",
       "      <th>Ccl_MinOfDay</th>\n",
       "    </tr>\n",
       "  </thead>\n",
       "  <tbody>\n",
       "    <tr>\n",
       "      <th>0</th>\n",
       "      <td>3513924914</td>\n",
       "      <td>2590587260</td>\n",
       "      <td>1</td>\n",
       "      <td>19.593987</td>\n",
       "      <td>-99.039326</td>\n",
       "      <td>19.578557</td>\n",
       "      <td>-99.041541</td>\n",
       "      <td>2019-09-19 04:07:56</td>\n",
       "      <td>2019-09-19 04:08:01</td>\n",
       "      <td>NaN</td>\n",
       "      <td>...</td>\n",
       "      <td>3</td>\n",
       "      <td>Thursday</td>\n",
       "      <td>38</td>\n",
       "      <td>4</td>\n",
       "      <td>7</td>\n",
       "      <td>3.0</td>\n",
       "      <td>Thursday</td>\n",
       "      <td>38.0</td>\n",
       "      <td>4.0</td>\n",
       "      <td>8.0</td>\n",
       "    </tr>\n",
       "    <tr>\n",
       "      <th>1</th>\n",
       "      <td>1594446343</td>\n",
       "      <td>1501665959</td>\n",
       "      <td>1</td>\n",
       "      <td>19.303307</td>\n",
       "      <td>-98.886432</td>\n",
       "      <td>19.261320</td>\n",
       "      <td>-98.878055</td>\n",
       "      <td>2019-09-19 22:44:43</td>\n",
       "      <td>0</td>\n",
       "      <td>NaN</td>\n",
       "      <td>...</td>\n",
       "      <td>3</td>\n",
       "      <td>Thursday</td>\n",
       "      <td>38</td>\n",
       "      <td>22</td>\n",
       "      <td>44</td>\n",
       "      <td>NaN</td>\n",
       "      <td>NaN</td>\n",
       "      <td>NaN</td>\n",
       "      <td>NaN</td>\n",
       "      <td>NaN</td>\n",
       "    </tr>\n",
       "    <tr>\n",
       "      <th>2</th>\n",
       "      <td>2312709661</td>\n",
       "      <td>1546836297</td>\n",
       "      <td>1</td>\n",
       "      <td>19.326330</td>\n",
       "      <td>-99.121689</td>\n",
       "      <td>19.310036</td>\n",
       "      <td>-99.124487</td>\n",
       "      <td>2019-09-19 23:00:37</td>\n",
       "      <td>0</td>\n",
       "      <td>NaN</td>\n",
       "      <td>...</td>\n",
       "      <td>3</td>\n",
       "      <td>Thursday</td>\n",
       "      <td>38</td>\n",
       "      <td>23</td>\n",
       "      <td>0</td>\n",
       "      <td>NaN</td>\n",
       "      <td>NaN</td>\n",
       "      <td>NaN</td>\n",
       "      <td>NaN</td>\n",
       "      <td>NaN</td>\n",
       "    </tr>\n",
       "    <tr>\n",
       "      <th>3</th>\n",
       "      <td>1498373688</td>\n",
       "      <td>2884063389</td>\n",
       "      <td>1</td>\n",
       "      <td>19.401755</td>\n",
       "      <td>-99.175365</td>\n",
       "      <td>19.400671</td>\n",
       "      <td>-99.188342</td>\n",
       "      <td>2019-09-20 16:31:24</td>\n",
       "      <td>0</td>\n",
       "      <td>NaN</td>\n",
       "      <td>...</td>\n",
       "      <td>4</td>\n",
       "      <td>Friday</td>\n",
       "      <td>38</td>\n",
       "      <td>16</td>\n",
       "      <td>31</td>\n",
       "      <td>NaN</td>\n",
       "      <td>NaN</td>\n",
       "      <td>NaN</td>\n",
       "      <td>NaN</td>\n",
       "      <td>NaN</td>\n",
       "    </tr>\n",
       "    <tr>\n",
       "      <th>4</th>\n",
       "      <td>197696634</td>\n",
       "      <td>2893722658</td>\n",
       "      <td>1</td>\n",
       "      <td>19.392388</td>\n",
       "      <td>-99.057337</td>\n",
       "      <td>19.370834</td>\n",
       "      <td>-99.005069</td>\n",
       "      <td>2019-09-20 23:26:56</td>\n",
       "      <td>2019-09-20 23:29:31</td>\n",
       "      <td>NaN</td>\n",
       "      <td>...</td>\n",
       "      <td>4</td>\n",
       "      <td>Friday</td>\n",
       "      <td>38</td>\n",
       "      <td>23</td>\n",
       "      <td>26</td>\n",
       "      <td>4.0</td>\n",
       "      <td>Friday</td>\n",
       "      <td>38.0</td>\n",
       "      <td>23.0</td>\n",
       "      <td>29.0</td>\n",
       "    </tr>\n",
       "  </tbody>\n",
       "</table>\n",
       "<p>5 rows × 29 columns</p>\n",
       "</div>"
      ],
      "text/plain": [
       "   id_request  id_passenger  id_city  from_latitude  from_longitude  \\\n",
       "0  3513924914    2590587260        1      19.593987      -99.039326   \n",
       "1  1594446343    1501665959        1      19.303307      -98.886432   \n",
       "2  2312709661    1546836297        1      19.326330      -99.121689   \n",
       "3  1498373688    2884063389        1      19.401755      -99.175365   \n",
       "4   197696634    2893722658        1      19.392388      -99.057337   \n",
       "\n",
       "   to_latitude  to_longitude          created_at         cancelled_at  \\\n",
       "0    19.578557    -99.041541 2019-09-19 04:07:56  2019-09-19 04:08:01   \n",
       "1    19.261320    -98.878055 2019-09-19 22:44:43                    0   \n",
       "2    19.310036    -99.124487 2019-09-19 23:00:37                    0   \n",
       "3    19.400671    -99.188342 2019-09-20 16:31:24                    0   \n",
       "4    19.370834    -99.005069 2019-09-20 23:26:56  2019-09-20 23:29:31   \n",
       "\n",
       "  timedout_at  ... Cre_Day_No_Week Cre_Day_Name  Cre_Week_No  Cre_HourOfDay  \\\n",
       "0         NaN  ...               3     Thursday           38              4   \n",
       "1         NaN  ...               3     Thursday           38             22   \n",
       "2         NaN  ...               3     Thursday           38             23   \n",
       "3         NaN  ...               4       Friday           38             16   \n",
       "4         NaN  ...               4       Friday           38             23   \n",
       "\n",
       "   Cre_MinOfDay Ccl_Day_No_Week Ccl_Day_Name Ccl_Week_No Ccl_HourOfDay  \\\n",
       "0             7             3.0     Thursday        38.0           4.0   \n",
       "1            44             NaN          NaN         NaN           NaN   \n",
       "2             0             NaN          NaN         NaN           NaN   \n",
       "3            31             NaN          NaN         NaN           NaN   \n",
       "4            26             4.0       Friday        38.0          23.0   \n",
       "\n",
       "   Ccl_MinOfDay  \n",
       "0           8.0  \n",
       "1           NaN  \n",
       "2           NaN  \n",
       "3           NaN  \n",
       "4          29.0  \n",
       "\n",
       "[5 rows x 29 columns]"
      ]
     },
     "execution_count": 16,
     "metadata": {},
     "output_type": "execute_result"
    }
   ],
   "source": [
    "#(df['date'] > start_date) & (df['date'] <= end_date)\n",
    "#df_req[(df_req[\"cancelled_at_day\"] >= (pd.to_datetime('2019-09-01').date())) & (df_req[\"cancelled_at_day\"] <= (pd.to_datetime('2019-09-30').date()))][\"passenger_payment_mean\"].value_counts()\n",
    "#df_req.tail()\n",
    "#df_req = df_req.drop([\"created_at_hour\", \"cancelled_at_hour\"], axis = 1)\n",
    "#print(df_req[[\"created_at_day\",\"Cre_Day_No_Week\"]].drop_duplicates())\n",
    "df_req.head()"
   ]
  },
  {
   "cell_type": "code",
   "execution_count": 8,
   "metadata": {},
   "outputs": [
    {
     "name": "stdout",
     "output_type": "stream",
     "text": [
      "Total Payment proportion of CC to whole is 21.15\n",
      "Cancelled Payment proportion of CC to whole is 18.003\n",
      "Successful Payment proportion of CC to whole is 23.235\n"
     ]
    }
   ],
   "source": [
    "#df_req[df_req[\"cancelled_at_day\"]]\n",
    "#df_req[\"created_at_day\"].drop_duplicates()\n",
    "#df_req[\"created_at_day\"].value_counts()\n",
    "df_req[\"cancelled_at\"] = [d if pd.isnull(d) != True else 0 for d in df_req[\"cancelled_at\"]]\n",
    "#whole data payment proportion\n",
    "pay_array = df_req[\"passenger_payment_mean\"].value_counts()\n",
    "print(\"Total Payment proportion of CC to whole is {}\".format(round(pay_array[1]/(pay_array[0] + pay_array[1]) * 100,3)))\n",
    "\n",
    "#cancelled request payment mode summary\n",
    "pay_cancel_array = df_req[df_req[\"cancelled_at\"] != 0][\"passenger_payment_mean\"].value_counts()\n",
    "print(\"Cancelled Payment proportion of CC to whole is {}\".format(round(pay_cancel_array[1]/(pay_cancel_array[0] + pay_cancel_array[1]) * 100,3)))\n",
    "\n",
    "#Successful request payment mode summary\n",
    "pay_success_array = df_req[df_req[\"cancelled_at\"] == 0][\"passenger_payment_mean\"].value_counts()\n",
    "print(\"Successful Payment proportion of CC to whole is {}\".format(round(pay_success_array[1]/(pay_success_array[0] + pay_success_array[1]) * 100,3)))"
   ]
  },
  {
   "cell_type": "code",
   "execution_count": 9,
   "metadata": {},
   "outputs": [],
   "source": [
    "#df_req.info()\n",
    "#type(df_req[\"created_at_day\"][0])\n",
    "#pd.to_datetime('2019-09-01').date()\n",
    "#time = np.array(df_req[\"cancelled_at_day\"].value_counts().index[1:])\n",
    "#value = np.array(df_req[\"cancelled_at_day\"].value_counts().values[1:])\n",
    "time_created_agg = list(df_req[\"created_at_day\"].value_counts().index)\n",
    "value_created_agg = list(df_req[\"created_at_day\"].value_counts().values)\n",
    "time_cancelled_agg = list(df_req[\"cancelled_at_day\"].value_counts().index)\n",
    "value_cancelled_agg = list(df_req[\"cancelled_at_day\"].value_counts().values)\n",
    "#cancelled_agg_dict = {\"time\":time, \"value\":value} \n",
    "#pd.to_datetime('2019-09-30')\n",
    "#sns.lineplot(x= time,y= value ,sort=True)\n",
    "#df_req[[\"from_latitude\",\"from_longitude\",\"to_latitude\", \"to_longitude\"]].to_excel(\"location_request.xlsx\")"
   ]
  },
  {
   "cell_type": "code",
   "execution_count": 10,
   "metadata": {},
   "outputs": [],
   "source": [
    "#function to zip lists\n",
    "def tupler(obj1, obj2):\n",
    "    new_list = []\n",
    "    for a,b in zip(obj1, obj2):\n",
    "        new_list.append((a,b))\n",
    "    return new_list"
   ]
  },
  {
   "cell_type": "code",
   "execution_count": 11,
   "metadata": {},
   "outputs": [],
   "source": [
    "appended_list = tupler(time_created_agg, value_created_agg)\n",
    "appended_list.sort()\n",
    "appended_list_cancel = tupler(time_cancelled_agg[1:], value_cancelled_agg[1:])\n",
    "appended_list_cancel.sort()"
   ]
  },
  {
   "cell_type": "code",
   "execution_count": 23,
   "metadata": {},
   "outputs": [
    {
     "data": {
      "image/png": "[encoded data removed]",
      "text/plain": [
       "<Figure size 936x792 with 1 Axes>"
      ]
     },
     "metadata": {
      "needs_background": "light"
     },
     "output_type": "display_data"
    },
    {
     "data": {
      "text/plain": [
       "<Figure size 720x576 with 0 Axes>"
      ]
     },
     "metadata": {},
     "output_type": "display_data"
    }
   ],
   "source": [
    "#print([appended_list[i][0] for i in range(len(appended_list))])\n",
    "#plt.bar([appended_list[i][0] for i in range(len(appended_list))],[appended_list[i][1] for i in range(len(appended_list))])\n",
    "#ax = sns.scatterplot(x='day', y='miles_walked', data=dataset, hue='day_category')  --- HUE PLOT\n",
    "ax = sns.barplot([appended_list[i][0] for i in range(len(appended_list))],[appended_list[i][1] for i in range(len(appended_list))], alpha=0.8)\n",
    "ax.set_xlabel('Date', fontsize = 10)\n",
    "ax.set_ylabel('Total Ride Requests',fontsize = 10)\n",
    "plt.rcParams['figure.figsize'] = [13, 11]\n",
    "plt.xticks(rotation = 90)\n",
    "plt.figure(figsize=(10,8))\n",
    "x_list = [appended_list[i][0] for i in range(len(appended_list))]\n",
    "ax.set_xticklabels([str(x_list[i]) for i in range(len(x_list))], fontsize=10)\n",
    "plt.show()\n",
    "#a = list(df_req[\"cancelled_at_day\"].value_counts().index[1:])\n",
    "#a.sort()\n",
    "#time_created_agg = list(df_req[\"created_at_day\"].value_counts().index[1:])"
   ]
  },
  {
   "cell_type": "markdown",
   "metadata": {},
   "source": [
    "<B> It is well known that number of requests are high during weekends. However, on 16th of September 2019, which falls on Monday, has more requests. It is <font color='red'> MEXICO'S INDEPENDENCE DAY!!!!! </B> </font>"
   ]
  },
  {
   "cell_type": "code",
   "execution_count": 24,
   "metadata": {
    "scrolled": true
   },
   "outputs": [
    {
     "name": "stdout",
     "output_type": "stream",
     "text": [
      "[(datetime.date(2019, 9, 1), 218164), (datetime.date(2019, 9, 2), 155257), (datetime.date(2019, 9, 3), 94017), (datetime.date(2019, 9, 4), 83519), (datetime.date(2019, 9, 5), 92449), (datetime.date(2019, 9, 6), 123243), (datetime.date(2019, 9, 7), 168031), (datetime.date(2019, 9, 8), 163166), (datetime.date(2019, 9, 9), 118232), (datetime.date(2019, 9, 10), 107417), (datetime.date(2019, 9, 11), 108272), (datetime.date(2019, 9, 12), 92234), (datetime.date(2019, 9, 13), 158142), (datetime.date(2019, 9, 14), 214374), (datetime.date(2019, 9, 15), 153059), (datetime.date(2019, 9, 16), 232001), (datetime.date(2019, 9, 17), 183899), (datetime.date(2019, 9, 18), 116382), (datetime.date(2019, 9, 19), 159512), (datetime.date(2019, 9, 20), 144487), (datetime.date(2019, 9, 21), 194489), (datetime.date(2019, 9, 22), 186639), (datetime.date(2019, 9, 23), 107608), (datetime.date(2019, 9, 24), 68338), (datetime.date(2019, 9, 25), 97759), (datetime.date(2019, 9, 26), 99411), (datetime.date(2019, 9, 27), 103060), (datetime.date(2019, 9, 28), 150173), (datetime.date(2019, 9, 29), 159100), (datetime.date(2019, 9, 30), 101494), (datetime.date(2019, 10, 1), 89), (datetime.date(2019, 10, 11), 1)]\n",
      "\n",
      "\n",
      "\n",
      "October dates on which cancellations have been made: 2019-10-11, 2019-10-01\n"
     ]
    }
   ],
   "source": [
    "#look at the last tuples showing dates from October (1st and 11th of October)\n",
    "appended_list_cancel.sort()\n",
    "print(appended_list_cancel)\n",
    "print(\"\\n\"*2)\n",
    "print(\"October dates on which cancellations have been made: {0}, {1}\".format(appended_list_cancel[-1][0],appended_list_cancel[-2][0]))"
   ]
  },
  {
   "cell_type": "code",
   "execution_count": 25,
   "metadata": {},
   "outputs": [
    {
     "data": {
      "image/png": "[encoded data removed]",
      "text/plain": [
       "<Figure size 936x792 with 1 Axes>"
      ]
     },
     "metadata": {
      "needs_background": "light"
     },
     "output_type": "display_data"
    },
    {
     "data": {
      "text/plain": [
       "<Figure size 720x576 with 0 Axes>"
      ]
     },
     "metadata": {},
     "output_type": "display_data"
    }
   ],
   "source": [
    "ax = sns.barplot([appended_list_cancel[i][0] for i in range(len(appended_list_cancel))], [appended_list_cancel[i][1] for i in range(len(appended_list_cancel))], alpha=0.8, color=color[4])\n",
    "ax.set_xlabel('Date', fontsize = 10)\n",
    "ax.set_ylabel('Total Cancelled Ride Requests',fontsize = 10)\n",
    "plt.rcParams['figure.figsize'] = [13, 11]\n",
    "plt.xticks(rotation = 90)\n",
    "plt.figure(figsize=(10,8))\n",
    "x_list_cancel = [appended_list_cancel[i][0] for i in range(len(appended_list_cancel))]\n",
    "ax.set_xticklabels([str(x_list_cancel[i]) for i in range(len(x_list_cancel))], fontsize=10)\n",
    "plt.show()"
   ]
  },
  {
   "cell_type": "markdown",
   "metadata": {},
   "source": [
    "<B> It can be seen from the above figure that Weekends has the most cancellation requests when compared to weekdays. However, similiar to the scenario of total request analysis, the cancellation rate is also higher on  <font color='red'> 16th September 2019 </font>. Also, one important thing to note here is the last 2 bars (almost invisible due to scale) there are dates of cancellation that has happened in the month of October 2019</B>\n",
    "\n",
    "<I> There are 3 reasons for this:  \n",
    "* Ride Request should be created by the end of night around 23:XX hour and cancelled on the next day which is 1st of October.   \n",
    "* Possible Fraud or Scam   \n",
    "* System error (data capture error)  \n",
    "</I>\n",
    "\n",
    "<B><I> However, there is one record on <font color='blue'> 11th of October 2019</font>. We will look into it later</I><B>\n"
   ]
  },
  {
   "cell_type": "code",
   "execution_count": 26,
   "metadata": {},
   "outputs": [],
   "source": [
    "#find rows where duration estimate is missing (w.k.t cancelled request have missing duration estimate, however, 4872 rows successful rows have been missing)\n",
    "#play with below 2 sceenarios to get necessary results: Note to self\n",
    "#df_req[\"cancelled_at\"] = df_req[\"cancelled_at\"].map(lambda x: np.nan if x == 0 else x)\n",
    "#df_req[\"cancelled_at\"] = [d if pd.isnull(d) != True else 0 for d in df_req[\"cancelled_at\"]]\n",
    "\n",
    "#len(df_req.loc[((df_req[\"cancelled_at\"] != 0) & (df_req[\"duration_estimate\"] == np.nan))])\n",
    "\n",
    "#df_req[\"duration_estimate\"].isnull().sum(axis = 0)\n",
    "\n",
    "#len(df_req.loc[df_req[\"cancelled_at\"] == 0])\n",
    "\n",
    "#df_req[\"duration_estimate\"][1] == np.nan\n",
    "\n",
    "#df_req[[\"cancelled_at\",\"duration_estimate\"]][0:100]\n",
    "\n",
    "#len(df_req.loc[df_req[\"cancelled_at\"]])\n",
    "#len(df_req[\"cancelled_at\"].notnull())\n",
    "#df_req[\"cancelled_at\"][1].notnull()"
   ]
  },
  {
   "cell_type": "code",
   "execution_count": null,
   "metadata": {},
   "outputs": [],
   "source": []
  },
  {
   "cell_type": "code",
   "execution_count": 27,
   "metadata": {},
   "outputs": [
    {
     "name": "stdout",
     "output_type": "stream",
     "text": [
      "<class 'datetime.time'>\n",
      "<class 'datetime.date'>\n",
      "<class 'int'>\n",
      "<class 'int'>\n"
     ]
    }
   ],
   "source": [
    "print(type(df_req[\"cancelled_at_hour\"][0]))\n",
    "print(type(df_req[\"cancelled_at_day\"][0]))\n",
    "\n",
    "#needs conversion to NAT (null values linked to datatime)\n",
    "print(type(df_req[\"cancelled_at_hour\"][1]))\n",
    "print(type(df_req[\"cancelled_at_day\"][1]))"
   ]
  },
  {
   "cell_type": "code",
   "execution_count": 28,
   "metadata": {},
   "outputs": [],
   "source": [
    "#df_req[\"cancelled_at_day\"] = pd.to_datetime(df_req[\"cancelled_at_day\"])\n",
    "#df_req[\"cancelled_at_hour\"] = pd.to_datetime(df_req[\"cancelled_at_hour\"])\n",
    "#df_req[\"cancelled_at\"] = pd.to_datetime(df_req[\"cancelled_at\"])"
   ]
  },
  {
   "cell_type": "code",
   "execution_count": 29,
   "metadata": {},
   "outputs": [],
   "source": [
    "#df_req.loc[(df_req[\"cancelled_at_day\"] >= pd.datetime.date('2019-10-01')) & (df_req[\"cancelled_at_day\"] <= pd.datetime.date('2019-10-11'))]\n",
    "#print(df_req[\"created_at_day\"][0],df_req[\"created_at_hour\"][0])"
   ]
  },
  {
   "cell_type": "code",
   "execution_count": 30,
   "metadata": {
    "scrolled": true
   },
   "outputs": [],
   "source": [
    "df_req_cre_ccl = df_req[[\"created_at_day\",\"created_at_hour\",\"Cre_Day_No_Week\",\"Cre_Day_Name\",\"Cre_Week_No\",\"Cre_HourOfDay\",\"Cre_MinOfDay\",\"cancelled_at_day\",\"cancelled_at_hour\",\"Ccl_Day_No_Week\",\"Ccl_Day_Name\",\"Ccl_Week_No\",\"Ccl_HourOfDay\",\"Ccl_MinOfDay\"]].copy()"
   ]
  },
  {
   "cell_type": "code",
   "execution_count": 31,
   "metadata": {},
   "outputs": [],
   "source": [
    "#len(df_req_cre_ccl.loc[df_req_cre_ccl[\"cancelled_at_day\"] == 0])\n",
    "#df_req_cre_ccl[\"cancelled_at_day\"][0] == datetime.date(2019,9,19)\n",
    "\n",
    "#df_req_cre_ccl.info()\n",
    "#df_req_cre_ccl.head()"
   ]
  },
  {
   "cell_type": "code",
   "execution_count": 32,
   "metadata": {},
   "outputs": [],
   "source": [
    "df_req_cre_ccl_ccled = df_req_cre_ccl.loc[df_req_cre_ccl[\"cancelled_at_day\"] != 0].copy()"
   ]
  },
  {
   "cell_type": "code",
   "execution_count": 33,
   "metadata": {},
   "outputs": [],
   "source": [
    "#extracting the cancelled requests in the month of October (3 requests with more variance)\n",
    "df_req_cre_ccl_ccled.loc[(df_req_cre_ccl_ccled[\"cancelled_at_day\"] >= datetime.date(2019,10,1)) & (df_req_cre_ccl_ccled[\"cancelled_at_day\"] <= datetime.date(2019,10,11))].to_excel(\"cancelled_request_fraud.xlsx\")"
   ]
  },
  {
   "cell_type": "code",
   "execution_count": 34,
   "metadata": {},
   "outputs": [
    {
     "data": {
      "text/html": [
       "<div>\n",
       "<style scoped>\n",
       "    .dataframe tbody tr th:only-of-type {\n",
       "        vertical-align: middle;\n",
       "    }\n",
       "\n",
       "    .dataframe tbody tr th {\n",
       "        vertical-align: top;\n",
       "    }\n",
       "\n",
       "    .dataframe thead th {\n",
       "        text-align: right;\n",
       "    }\n",
       "</style>\n",
       "<table border=\"1\" class=\"dataframe\">\n",
       "  <thead>\n",
       "    <tr style=\"text-align: right;\">\n",
       "      <th></th>\n",
       "      <th>created_at</th>\n",
       "      <th>cancelled_at</th>\n",
       "    </tr>\n",
       "  </thead>\n",
       "  <tbody>\n",
       "    <tr>\n",
       "      <th>410988</th>\n",
       "      <td>2019-09-08 22:09:07</td>\n",
       "      <td>2019-10-11 22:21:49</td>\n",
       "    </tr>\n",
       "    <tr>\n",
       "      <th>5055631</th>\n",
       "      <td>2019-09-30 12:07:26</td>\n",
       "      <td>2019-10-01 00:16:27</td>\n",
       "    </tr>\n",
       "    <tr>\n",
       "      <th>7473501</th>\n",
       "      <td>2019-09-30 21:54:07</td>\n",
       "      <td>2019-10-01 00:08:31</td>\n",
       "    </tr>\n",
       "  </tbody>\n",
       "</table>\n",
       "</div>"
      ],
      "text/plain": [
       "                 created_at         cancelled_at\n",
       "410988  2019-09-08 22:09:07  2019-10-11 22:21:49\n",
       "5055631 2019-09-30 12:07:26  2019-10-01 00:16:27\n",
       "7473501 2019-09-30 21:54:07  2019-10-01 00:08:31"
      ]
     },
     "execution_count": 34,
     "metadata": {},
     "output_type": "execute_result"
    }
   ],
   "source": [
    "#Possible Fraud indices - 410988,5055631,7473501 (difference between created time and cancelled time is more - possible fraud)\n",
    "#analyze in the Joint Data\n",
    "anamolous_rows = df_req[[\"created_at\", \"cancelled_at\"]].iloc[[410988,5055631,7473501],:].copy()\n",
    "df_req[[\"created_at\", \"cancelled_at\"]].iloc[[410988,5055631,7473501],:]"
   ]
  },
  {
   "cell_type": "code",
   "execution_count": 36,
   "metadata": {},
   "outputs": [
    {
     "name": "stdout",
     "output_type": "stream",
     "text": [
      "33 days 00:12:42\n",
      "0 days 12:09:01\n",
      "0 days 02:14:24\n"
     ]
    }
   ],
   "source": [
    "print(anamolous_rows[\"cancelled_at\"][410988] - anamolous_rows[\"created_at\"][410988])\n",
    "print(anamolous_rows[\"cancelled_at\"][5055631] - anamolous_rows[\"created_at\"][5055631])\n",
    "print(anamolous_rows[\"cancelled_at\"][7473501] - anamolous_rows[\"created_at\"][7473501])"
   ]
  },
  {
   "cell_type": "code",
   "execution_count": 37,
   "metadata": {},
   "outputs": [
    {
     "name": "stdout",
     "output_type": "stream",
     "text": [
      "The cities with most ride requests: id_city\n",
      "1    8782703\n",
      "2    1210158\n",
      "3     432283\n",
      "Name: created_at, dtype: int64\n",
      "The cities with most cancellation requests: id_city\n",
      "1    3978127\n",
      "2     143792\n",
      "3      32099\n",
      "Name: cancelled_at_day, dtype: int64\n"
     ]
    }
   ],
   "source": [
    "#The city with most ride requests\n",
    "print(\"The cities with most ride requests: {}\".format(df_req.groupby(\"id_city\")[\"created_at\"].count()))\n",
    "\n",
    "#The city with most cancellation requests\n",
    "df_req_pass_can = df_req[[\"id_request\",\"id_passenger\",\"id_city\",\"created_at\", \"cancelled_at\", \"timedout_at\",\"cancelled_at_day\",\"passenger_udid\"]].copy()\n",
    "df_req_pass_cancld = df_req_pass_can.loc[df_req_pass_can[\"cancelled_at_day\"] != 0].copy()\n",
    "print(\"The cities with most cancellation requests: {}\".format(df_req_pass_cancld.groupby(\"id_city\")[\"cancelled_at_day\"].count()))\n"
   ]
  },
  {
   "cell_type": "markdown",
   "metadata": {},
   "source": [
    "<B> City with the id 1 has the most number of cancellations, followed by id 2, and then id 3. </B> We will visualize the from_longitude and to_longitude data in Tableau and will try to find out the city. And as well as we will do some <B><I> feature engineering </I></B> to extract the <font color='red'> time between created_at and cancelled_at </font> to see which city has the most cancellations with shorter period of time by visualizing in tableau"
   ]
  },
  {
   "cell_type": "code",
   "execution_count": 41,
   "metadata": {},
   "outputs": [
    {
     "name": "stdout",
     "output_type": "stream",
     "text": [
      "[(1921356371, 454), (3316479091, 389), (4126096205, 374), (1195735680, 362), (2671521091, 351), (2460443232, 348), (3057540022, 314), (3358312364, 314), (33372841, 307), (4264108885, 303), (403767661, 290), (597597109, 283), (713924278, 282), (1877603042, 281), (3125036328, 273), (3907265533, 272), (3612166977, 268), (4077594337, 264), (1809221372, 259), (946190519, 258)]\n"
     ]
    }
   ],
   "source": [
    "#passenger with most cancellation requests\n",
    "passenger_cancellation_list = list(df_req_pass_cancld.groupby(\"id_passenger\")[\"cancelled_at_day\"].count())\n",
    "passenger_cancellation_index = df_req_pass_cancld.groupby(\"id_passenger\")[\"cancelled_at_day\"].count().index\n",
    "passenger_cancellation_append_list = tupler(passenger_cancellation_index,passenger_cancellation_list)\n",
    "import operator\n",
    "passenger_cancellation_append_list.sort(key = operator.itemgetter(1), reverse = True)\n",
    "print(passenger_cancellation_append_list[0:20])"
   ]
  },
  {
   "cell_type": "code",
   "execution_count": 42,
   "metadata": {},
   "outputs": [
    {
     "name": "stdout",
     "output_type": "stream",
     "text": [
      "1921356371 571    1222230924\n",
      "Name: passenger_udid, dtype: int64\n",
      "3316479091 54020    1239518003\n",
      "Name: passenger_udid, dtype: int64\n",
      "4126096205 1341    2487775150\n",
      "Name: passenger_udid, dtype: int64\n",
      "1195735680 41843    3420321870\n",
      "Name: passenger_udid, dtype: int64\n",
      "2671521091 25322    2421483977\n",
      "Name: passenger_udid, dtype: int64\n",
      "2460443232 140676    3665275083\n",
      "Name: passenger_udid, dtype: int64\n",
      "3057540022 31244    2835022020\n",
      "Name: passenger_udid, dtype: int64\n",
      "3358312364 32862    297703927\n",
      "Name: passenger_udid, dtype: int64\n",
      "33372841 4703    469367012\n",
      "Name: passenger_udid, dtype: int64\n",
      "4264108885 59696    1945055797\n",
      "Name: passenger_udid, dtype: int64\n",
      "403767661 27562    248612859\n",
      "Name: passenger_udid, dtype: int64\n",
      "597597109 60543    1548046223\n",
      "Name: passenger_udid, dtype: int64\n",
      "713924278 93080    810078543\n",
      "Name: passenger_udid, dtype: int64\n",
      "1877603042 77213    3786046123\n",
      "Name: passenger_udid, dtype: int64\n",
      "3125036328 73328    3382582625\n",
      "Name: passenger_udid, dtype: int64\n",
      "3907265533 31202    2566659257\n",
      "Name: passenger_udid, dtype: int64\n",
      "3612166977 3828    2741754632\n",
      "Name: passenger_udid, dtype: int64\n",
      "4077594337 10600    1124406294\n",
      "Name: passenger_udid, dtype: int64\n",
      "1809221372 14595    3878602381\n",
      "Name: passenger_udid, dtype: int64\n",
      "946190519 38660    3150388360\n",
      "Name: passenger_udid, dtype: int64\n"
     ]
    }
   ],
   "source": [
    "#to check if passengers use different deveices - possible scam\n",
    "for i,j in passenger_cancellation_append_list[0:20]:\n",
    "    print(i,df_req_pass_cancld.loc[df_req_pass_cancld[\"id_passenger\"] == i][\"passenger_udid\"].drop_duplicates())"
   ]
  },
  {
   "cell_type": "code",
   "execution_count": null,
   "metadata": {},
   "outputs": [],
   "source": [
    "df_req.head()"
   ]
  },
  {
   "cell_type": "code",
   "execution_count": 46,
   "metadata": {},
   "outputs": [
    {
     "data": {
      "text/html": [
       "<div>\n",
       "<style scoped>\n",
       "    .dataframe tbody tr th:only-of-type {\n",
       "        vertical-align: middle;\n",
       "    }\n",
       "\n",
       "    .dataframe tbody tr th {\n",
       "        vertical-align: top;\n",
       "    }\n",
       "\n",
       "    .dataframe thead th {\n",
       "        text-align: right;\n",
       "    }\n",
       "</style>\n",
       "<table border=\"1\" class=\"dataframe\">\n",
       "  <thead>\n",
       "    <tr style=\"text-align: right;\">\n",
       "      <th></th>\n",
       "      <th>id_request</th>\n",
       "      <th>id_passenger</th>\n",
       "      <th>id_city</th>\n",
       "      <th>from_latitude</th>\n",
       "      <th>from_longitude</th>\n",
       "      <th>to_latitude</th>\n",
       "      <th>to_longitude</th>\n",
       "      <th>created_at</th>\n",
       "      <th>cancelled_at</th>\n",
       "      <th>timedout_at</th>\n",
       "      <th>...</th>\n",
       "      <th>Cre_Day_Name</th>\n",
       "      <th>Cre_Week_No</th>\n",
       "      <th>Cre_HourOfDay</th>\n",
       "      <th>Cre_MinOfDay</th>\n",
       "      <th>Ccl_Day_No_Week</th>\n",
       "      <th>Ccl_Day_Name</th>\n",
       "      <th>Ccl_Week_No</th>\n",
       "      <th>Ccl_HourOfDay</th>\n",
       "      <th>Ccl_MinOfDay</th>\n",
       "      <th>cancel_create_diff</th>\n",
       "    </tr>\n",
       "  </thead>\n",
       "  <tbody>\n",
       "    <tr>\n",
       "      <th>0</th>\n",
       "      <td>3513924914</td>\n",
       "      <td>2590587260</td>\n",
       "      <td>1</td>\n",
       "      <td>19.593987</td>\n",
       "      <td>-99.039326</td>\n",
       "      <td>19.578557</td>\n",
       "      <td>-99.041541</td>\n",
       "      <td>2019-09-19 04:07:56</td>\n",
       "      <td>2019-09-19 04:08:01</td>\n",
       "      <td>NaN</td>\n",
       "      <td>...</td>\n",
       "      <td>Thursday</td>\n",
       "      <td>38</td>\n",
       "      <td>4</td>\n",
       "      <td>7</td>\n",
       "      <td>3.0</td>\n",
       "      <td>Thursday</td>\n",
       "      <td>38.0</td>\n",
       "      <td>4.0</td>\n",
       "      <td>8.0</td>\n",
       "      <td>00:00:05</td>\n",
       "    </tr>\n",
       "    <tr>\n",
       "      <th>1</th>\n",
       "      <td>1594446343</td>\n",
       "      <td>1501665959</td>\n",
       "      <td>1</td>\n",
       "      <td>19.303307</td>\n",
       "      <td>-98.886432</td>\n",
       "      <td>19.261320</td>\n",
       "      <td>-98.878055</td>\n",
       "      <td>2019-09-19 22:44:43</td>\n",
       "      <td>0</td>\n",
       "      <td>NaN</td>\n",
       "      <td>...</td>\n",
       "      <td>Thursday</td>\n",
       "      <td>38</td>\n",
       "      <td>22</td>\n",
       "      <td>44</td>\n",
       "      <td>NaN</td>\n",
       "      <td>NaN</td>\n",
       "      <td>NaN</td>\n",
       "      <td>NaN</td>\n",
       "      <td>NaN</td>\n",
       "      <td>NaT</td>\n",
       "    </tr>\n",
       "    <tr>\n",
       "      <th>2</th>\n",
       "      <td>2312709661</td>\n",
       "      <td>1546836297</td>\n",
       "      <td>1</td>\n",
       "      <td>19.326330</td>\n",
       "      <td>-99.121689</td>\n",
       "      <td>19.310036</td>\n",
       "      <td>-99.124487</td>\n",
       "      <td>2019-09-19 23:00:37</td>\n",
       "      <td>0</td>\n",
       "      <td>NaN</td>\n",
       "      <td>...</td>\n",
       "      <td>Thursday</td>\n",
       "      <td>38</td>\n",
       "      <td>23</td>\n",
       "      <td>0</td>\n",
       "      <td>NaN</td>\n",
       "      <td>NaN</td>\n",
       "      <td>NaN</td>\n",
       "      <td>NaN</td>\n",
       "      <td>NaN</td>\n",
       "      <td>NaT</td>\n",
       "    </tr>\n",
       "    <tr>\n",
       "      <th>3</th>\n",
       "      <td>1498373688</td>\n",
       "      <td>2884063389</td>\n",
       "      <td>1</td>\n",
       "      <td>19.401755</td>\n",
       "      <td>-99.175365</td>\n",
       "      <td>19.400671</td>\n",
       "      <td>-99.188342</td>\n",
       "      <td>2019-09-20 16:31:24</td>\n",
       "      <td>0</td>\n",
       "      <td>NaN</td>\n",
       "      <td>...</td>\n",
       "      <td>Friday</td>\n",
       "      <td>38</td>\n",
       "      <td>16</td>\n",
       "      <td>31</td>\n",
       "      <td>NaN</td>\n",
       "      <td>NaN</td>\n",
       "      <td>NaN</td>\n",
       "      <td>NaN</td>\n",
       "      <td>NaN</td>\n",
       "      <td>NaT</td>\n",
       "    </tr>\n",
       "    <tr>\n",
       "      <th>4</th>\n",
       "      <td>197696634</td>\n",
       "      <td>2893722658</td>\n",
       "      <td>1</td>\n",
       "      <td>19.392388</td>\n",
       "      <td>-99.057337</td>\n",
       "      <td>19.370834</td>\n",
       "      <td>-99.005069</td>\n",
       "      <td>2019-09-20 23:26:56</td>\n",
       "      <td>2019-09-20 23:29:31</td>\n",
       "      <td>NaN</td>\n",
       "      <td>...</td>\n",
       "      <td>Friday</td>\n",
       "      <td>38</td>\n",
       "      <td>23</td>\n",
       "      <td>26</td>\n",
       "      <td>4.0</td>\n",
       "      <td>Friday</td>\n",
       "      <td>38.0</td>\n",
       "      <td>23.0</td>\n",
       "      <td>29.0</td>\n",
       "      <td>00:02:35</td>\n",
       "    </tr>\n",
       "  </tbody>\n",
       "</table>\n",
       "<p>5 rows × 30 columns</p>\n",
       "</div>"
      ],
      "text/plain": [
       "   id_request  id_passenger  id_city  from_latitude  from_longitude  \\\n",
       "0  3513924914    2590587260        1      19.593987      -99.039326   \n",
       "1  1594446343    1501665959        1      19.303307      -98.886432   \n",
       "2  2312709661    1546836297        1      19.326330      -99.121689   \n",
       "3  1498373688    2884063389        1      19.401755      -99.175365   \n",
       "4   197696634    2893722658        1      19.392388      -99.057337   \n",
       "\n",
       "   to_latitude  to_longitude          created_at         cancelled_at  \\\n",
       "0    19.578557    -99.041541 2019-09-19 04:07:56  2019-09-19 04:08:01   \n",
       "1    19.261320    -98.878055 2019-09-19 22:44:43                    0   \n",
       "2    19.310036    -99.124487 2019-09-19 23:00:37                    0   \n",
       "3    19.400671    -99.188342 2019-09-20 16:31:24                    0   \n",
       "4    19.370834    -99.005069 2019-09-20 23:26:56  2019-09-20 23:29:31   \n",
       "\n",
       "  timedout_at  ... Cre_Day_Name Cre_Week_No  Cre_HourOfDay  Cre_MinOfDay  \\\n",
       "0         NaN  ...     Thursday          38              4             7   \n",
       "1         NaN  ...     Thursday          38             22            44   \n",
       "2         NaN  ...     Thursday          38             23             0   \n",
       "3         NaN  ...       Friday          38             16            31   \n",
       "4         NaN  ...       Friday          38             23            26   \n",
       "\n",
       "   Ccl_Day_No_Week Ccl_Day_Name Ccl_Week_No Ccl_HourOfDay Ccl_MinOfDay  \\\n",
       "0              3.0     Thursday        38.0           4.0          8.0   \n",
       "1              NaN          NaN         NaN           NaN          NaN   \n",
       "2              NaN          NaN         NaN           NaN          NaN   \n",
       "3              NaN          NaN         NaN           NaN          NaN   \n",
       "4              4.0       Friday        38.0          23.0         29.0   \n",
       "\n",
       "   cancel_create_diff  \n",
       "0            00:00:05  \n",
       "1                 NaT  \n",
       "2                 NaT  \n",
       "3                 NaT  \n",
       "4            00:02:35  \n",
       "\n",
       "[5 rows x 30 columns]"
      ]
     },
     "execution_count": 46,
     "metadata": {},
     "output_type": "execute_result"
    }
   ],
   "source": [
    "#for cancelled_at - created_at analysis (to find the difference and we can link the data to the pasenger ID to see unexpected activity)\n",
    "#df_req_diff_cre_ccl = df_req.loc[df_req[\"cancelled_at_day\"] != 0].copy()\n",
    "\n",
    "df_req.head()\n"
   ]
  },
  {
   "cell_type": "code",
   "execution_count": 60,
   "metadata": {},
   "outputs": [
    {
     "name": "stdout",
     "output_type": "stream",
     "text": [
      "<class 'pandas._libs.tslibs.nattype.NaTType'>\n",
      "<class 'pandas._libs.tslibs.timedeltas.Timedelta'>\n",
      "<class 'pandas._libs.tslibs.timestamps.Timestamp'>\n",
      "2019-09-22 06:18:43 <class 'pandas._libs.tslibs.timestamps.Timestamp'>\n",
      "NaT <class 'pandas._libs.tslibs.nattype.NaTType'>\n",
      "2019-09-19 04:07:56 <class 'pandas._libs.tslibs.timestamps.Timestamp'>\n"
     ]
    }
   ],
   "source": [
    "########creating some useful features for identifying the summary on cancellation duration\n",
    "df_req[\"cancel_create_diff\"] = [df_req[\"cancelled_at\"][i] - df_req[\"created_at\"][i] if df_req[\"cancelled_at\"][i] != 0 else np.nan for i in range(len(df_req))]\n",
    "#df_req[\"timedout_created_diff\"] = [df_req[\"timedout_at\"][i] - df_req[\"created_at\"][i] if math.isnan(df_req[\"timedout_at\"][i]) != True else np.nan for i in range(len(df_req))]\n",
    "#df_req[\"timedout_created_diff\"] = [df_req[\"timedout_at\"][i] - df_req[\"created_at\"][i] if df_req[\"timedout_at\"][i] != float('nan') else np.nan for i in range(len(df_req))]\n",
    "df_req[\"timedout_at\"] = pd.to_datetime(df_req[\"timedout_at\"])\n",
    "df_req[\"timedout_created_diff\"] = [df_req[\"timedout_at\"][i] - df_req[\"created_at\"][i] if pd.isnull(df_req[\"timedout_at\"][i]) != True  else np.nan for i in range(len(df_req))]\n",
    "#print(df_req[\"timedout_at\"][12], type(df_req[\"timedout_at\"][12]))\n",
    "#print(df_req[\"timedout_at\"][0],type(df_req[\"timedout_at\"][0]))\n",
    "#print(df_req[\"created_at\"][0],type(df_req[\"created_at\"][0]))"
   ]
  },
  {
   "cell_type": "code",
   "execution_count": 66,
   "metadata": {},
   "outputs": [
    {
     "name": "stdout",
     "output_type": "stream",
     "text": [
      "Index(['id_request', 'id_passenger', 'id_city', 'from_latitude',\n",
      "       'from_longitude', 'to_latitude', 'to_longitude', 'created_at',\n",
      "       'cancelled_at', 'timedout_at', 'passenger_device',\n",
      "       'passenger_payment_mean', 'passenger_udid', 'distance_estimate',\n",
      "       'duration_estimate', 'created_at_day', 'created_at_hour',\n",
      "       'cancelled_at_day', 'cancelled_at_hour', 'Cre_Day_No_Week',\n",
      "       'Cre_Day_Name', 'Cre_Week_No', 'Cre_HourOfDay', 'Cre_MinOfDay',\n",
      "       'Ccl_Day_No_Week', 'Ccl_Day_Name', 'Ccl_Week_No', 'Ccl_HourOfDay',\n",
      "       'Ccl_MinOfDay', 'cancel_create_diff', 'timedout_created_diff'],\n",
      "      dtype='object')\n"
     ]
    }
   ],
   "source": [
    "#import math\n",
    "#math.isnan(df_req[\"timedout_at\"][0])\n",
    "print(df_req.columns)"
   ]
  },
  {
   "cell_type": "code",
   "execution_count": 65,
   "metadata": {},
   "outputs": [
    {
     "data": {
      "text/html": [
       "<div>\n",
       "<style scoped>\n",
       "    .dataframe tbody tr th:only-of-type {\n",
       "        vertical-align: middle;\n",
       "    }\n",
       "\n",
       "    .dataframe tbody tr th {\n",
       "        vertical-align: top;\n",
       "    }\n",
       "\n",
       "    .dataframe thead th {\n",
       "        text-align: right;\n",
       "    }\n",
       "</style>\n",
       "<table border=\"1\" class=\"dataframe\">\n",
       "  <thead>\n",
       "    <tr style=\"text-align: right;\">\n",
       "      <th></th>\n",
       "      <th>id_request</th>\n",
       "      <th>id_passenger</th>\n",
       "      <th>id_city</th>\n",
       "      <th>from_latitude</th>\n",
       "      <th>from_longitude</th>\n",
       "      <th>to_latitude</th>\n",
       "      <th>to_longitude</th>\n",
       "      <th>created_at</th>\n",
       "      <th>cancelled_at</th>\n",
       "      <th>timedout_at</th>\n",
       "      <th>...</th>\n",
       "      <th>Cre_Week_No</th>\n",
       "      <th>Cre_HourOfDay</th>\n",
       "      <th>Cre_MinOfDay</th>\n",
       "      <th>Ccl_Day_No_Week</th>\n",
       "      <th>Ccl_Day_Name</th>\n",
       "      <th>Ccl_Week_No</th>\n",
       "      <th>Ccl_HourOfDay</th>\n",
       "      <th>Ccl_MinOfDay</th>\n",
       "      <th>cancel_create_diff</th>\n",
       "      <th>timedout_created_diff</th>\n",
       "    </tr>\n",
       "  </thead>\n",
       "  <tbody>\n",
       "    <tr>\n",
       "      <th>0</th>\n",
       "      <td>3513924914</td>\n",
       "      <td>2590587260</td>\n",
       "      <td>1</td>\n",
       "      <td>19.593987</td>\n",
       "      <td>-99.039326</td>\n",
       "      <td>19.578557</td>\n",
       "      <td>-99.041541</td>\n",
       "      <td>2019-09-19 04:07:56</td>\n",
       "      <td>2019-09-19 04:08:01</td>\n",
       "      <td>NaT</td>\n",
       "      <td>...</td>\n",
       "      <td>38</td>\n",
       "      <td>4</td>\n",
       "      <td>7</td>\n",
       "      <td>3.0</td>\n",
       "      <td>Thursday</td>\n",
       "      <td>38.0</td>\n",
       "      <td>4.0</td>\n",
       "      <td>8.0</td>\n",
       "      <td>00:00:05</td>\n",
       "      <td>NaT</td>\n",
       "    </tr>\n",
       "    <tr>\n",
       "      <th>1</th>\n",
       "      <td>1594446343</td>\n",
       "      <td>1501665959</td>\n",
       "      <td>1</td>\n",
       "      <td>19.303307</td>\n",
       "      <td>-98.886432</td>\n",
       "      <td>19.261320</td>\n",
       "      <td>-98.878055</td>\n",
       "      <td>2019-09-19 22:44:43</td>\n",
       "      <td>0</td>\n",
       "      <td>NaT</td>\n",
       "      <td>...</td>\n",
       "      <td>38</td>\n",
       "      <td>22</td>\n",
       "      <td>44</td>\n",
       "      <td>NaN</td>\n",
       "      <td>NaN</td>\n",
       "      <td>NaN</td>\n",
       "      <td>NaN</td>\n",
       "      <td>NaN</td>\n",
       "      <td>NaT</td>\n",
       "      <td>NaT</td>\n",
       "    </tr>\n",
       "    <tr>\n",
       "      <th>2</th>\n",
       "      <td>2312709661</td>\n",
       "      <td>1546836297</td>\n",
       "      <td>1</td>\n",
       "      <td>19.326330</td>\n",
       "      <td>-99.121689</td>\n",
       "      <td>19.310036</td>\n",
       "      <td>-99.124487</td>\n",
       "      <td>2019-09-19 23:00:37</td>\n",
       "      <td>0</td>\n",
       "      <td>NaT</td>\n",
       "      <td>...</td>\n",
       "      <td>38</td>\n",
       "      <td>23</td>\n",
       "      <td>0</td>\n",
       "      <td>NaN</td>\n",
       "      <td>NaN</td>\n",
       "      <td>NaN</td>\n",
       "      <td>NaN</td>\n",
       "      <td>NaN</td>\n",
       "      <td>NaT</td>\n",
       "      <td>NaT</td>\n",
       "    </tr>\n",
       "    <tr>\n",
       "      <th>3</th>\n",
       "      <td>1498373688</td>\n",
       "      <td>2884063389</td>\n",
       "      <td>1</td>\n",
       "      <td>19.401755</td>\n",
       "      <td>-99.175365</td>\n",
       "      <td>19.400671</td>\n",
       "      <td>-99.188342</td>\n",
       "      <td>2019-09-20 16:31:24</td>\n",
       "      <td>0</td>\n",
       "      <td>NaT</td>\n",
       "      <td>...</td>\n",
       "      <td>38</td>\n",
       "      <td>16</td>\n",
       "      <td>31</td>\n",
       "      <td>NaN</td>\n",
       "      <td>NaN</td>\n",
       "      <td>NaN</td>\n",
       "      <td>NaN</td>\n",
       "      <td>NaN</td>\n",
       "      <td>NaT</td>\n",
       "      <td>NaT</td>\n",
       "    </tr>\n",
       "    <tr>\n",
       "      <th>4</th>\n",
       "      <td>197696634</td>\n",
       "      <td>2893722658</td>\n",
       "      <td>1</td>\n",
       "      <td>19.392388</td>\n",
       "      <td>-99.057337</td>\n",
       "      <td>19.370834</td>\n",
       "      <td>-99.005069</td>\n",
       "      <td>2019-09-20 23:26:56</td>\n",
       "      <td>2019-09-20 23:29:31</td>\n",
       "      <td>NaT</td>\n",
       "      <td>...</td>\n",
       "      <td>38</td>\n",
       "      <td>23</td>\n",
       "      <td>26</td>\n",
       "      <td>4.0</td>\n",
       "      <td>Friday</td>\n",
       "      <td>38.0</td>\n",
       "      <td>23.0</td>\n",
       "      <td>29.0</td>\n",
       "      <td>00:02:35</td>\n",
       "      <td>NaT</td>\n",
       "    </tr>\n",
       "  </tbody>\n",
       "</table>\n",
       "<p>5 rows × 31 columns</p>\n",
       "</div>"
      ],
      "text/plain": [
       "   id_request  id_passenger  id_city  from_latitude  from_longitude  \\\n",
       "0  3513924914    2590587260        1      19.593987      -99.039326   \n",
       "1  1594446343    1501665959        1      19.303307      -98.886432   \n",
       "2  2312709661    1546836297        1      19.326330      -99.121689   \n",
       "3  1498373688    2884063389        1      19.401755      -99.175365   \n",
       "4   197696634    2893722658        1      19.392388      -99.057337   \n",
       "\n",
       "   to_latitude  to_longitude          created_at         cancelled_at  \\\n",
       "0    19.578557    -99.041541 2019-09-19 04:07:56  2019-09-19 04:08:01   \n",
       "1    19.261320    -98.878055 2019-09-19 22:44:43                    0   \n",
       "2    19.310036    -99.124487 2019-09-19 23:00:37                    0   \n",
       "3    19.400671    -99.188342 2019-09-20 16:31:24                    0   \n",
       "4    19.370834    -99.005069 2019-09-20 23:26:56  2019-09-20 23:29:31   \n",
       "\n",
       "  timedout_at  ... Cre_Week_No Cre_HourOfDay  Cre_MinOfDay  Ccl_Day_No_Week  \\\n",
       "0         NaT  ...          38             4             7              3.0   \n",
       "1         NaT  ...          38            22            44              NaN   \n",
       "2         NaT  ...          38            23             0              NaN   \n",
       "3         NaT  ...          38            16            31              NaN   \n",
       "4         NaT  ...          38            23            26              4.0   \n",
       "\n",
       "   Ccl_Day_Name Ccl_Week_No Ccl_HourOfDay Ccl_MinOfDay cancel_create_diff  \\\n",
       "0      Thursday        38.0           4.0          8.0           00:00:05   \n",
       "1           NaN         NaN           NaN          NaN                NaT   \n",
       "2           NaN         NaN           NaN          NaN                NaT   \n",
       "3           NaN         NaN           NaN          NaN                NaT   \n",
       "4        Friday        38.0          23.0         29.0           00:02:35   \n",
       "\n",
       "   timedout_created_diff  \n",
       "0                    NaT  \n",
       "1                    NaT  \n",
       "2                    NaT  \n",
       "3                    NaT  \n",
       "4                    NaT  \n",
       "\n",
       "[5 rows x 31 columns]"
      ]
     },
     "execution_count": 65,
     "metadata": {},
     "output_type": "execute_result"
    }
   ],
   "source": [
    "#df_req[[\"id_request\",\"id_passenger\",\"id_city\",\"from_latitude\",\"from_longitude\",]]\n",
    "#df_req_timed = df_req[\"timedout_created_diff\"].loc[~math.isnan(df_req[\"timedout_created_diff\"])]\n",
    "#df_req[\"timedout_at\"] = pd.to_datetime(df_req[\"timedout_at\"])\n",
    "#print(type(df_req[\"created_at\"][12]))\n",
    "#print(type(df_req[\"timedout_at\"][0]))\n",
    "#pd.isnull(df_req[\"timedout_at\"][0])\n",
    "#df_req[\"timedout_created_diff\"].describe()\n",
    "#print(df_req[\"timedout_created_diff\"][12]) - 0 days 00:05:09\n",
    "df_req.head()"
   ]
  },
  {
   "cell_type": "code",
   "execution_count": 67,
   "metadata": {},
   "outputs": [
    {
     "name": "stdout",
     "output_type": "stream",
     "text": [
      "count                   2048326\n",
      "mean     0 days 00:01:42.527989\n",
      "std      0 days 00:09:14.845724\n",
      "min             0 days 00:00:00\n",
      "25%             0 days 00:00:13\n",
      "50%             0 days 00:00:38\n",
      "75%             0 days 00:02:04\n",
      "max             2 days 17:16:27\n",
      "Name: timedout_created_diff, dtype: object\n"
     ]
    }
   ],
   "source": [
    "#difference between the time the request was created and timedout due to unavailability of driver to accept the ride\n",
    "print(df_req[\"timedout_created_diff\"].describe())"
   ]
  },
  {
   "cell_type": "markdown",
   "metadata": {},
   "source": [
    "<B> Kindly note the anamolous value in the summary Maximum value - <font color = \"blue\"> 2 days 27 hours 17 hours 16 minutes 27 seconds </font>. <I> The timedout should have been set based on a thresold time for.e.g. if a drivers doesnt accept say 2 minutes from the time request created. Also, kindly check the minimum value - <font color = \"blue\"> 0 days 0 hours 0 minutes 0 seconds </font>. This needs further analysis to check the reason behind this - may or may not be a scam or even a technical glitch </I></B>"
   ]
  },
  {
   "cell_type": "code",
   "execution_count": 68,
   "metadata": {},
   "outputs": [
    {
     "name": "stdout",
     "output_type": "stream",
     "text": [
      "count                   4154018\n",
      "mean     0 days 00:00:58.541778\n",
      "std      0 days 00:25:51.679591\n",
      "min             0 days 00:00:00\n",
      "25%             0 days 00:00:03\n",
      "50%             0 days 00:00:15\n",
      "75%             0 days 00:01:08\n",
      "max            33 days 00:12:42\n",
      "Name: cancel_create_diff, dtype: object\n"
     ]
    }
   ],
   "source": [
    "#difference between the request created time and cancelled time\n",
    "print(df_req[\"cancel_create_diff\"].describe())\n",
    "\n",
    "\n",
    "#exporting necessasry data as excel to visualize in tableau\n",
    "df_req[[\"id_request\",\"id_passenger\",\"id_city\",\"from_latitude\",\"from_longitude\",\"Cre_Day_Name\",\"Cre_HourOfDay\",\"Ccl_Day_Name\",\"Ccl_HourOfDay\",\"cancel_create_diff\",\"timedout_created_diff\"]].to_excel(\"location_visual.xlsx\")"
   ]
  },
  {
   "cell_type": "markdown",
   "metadata": {},
   "source": [
    "This is very surprising as we can see the outlier on the maximum end is <B> <font color = \"blue\"> 33 days 12 minutes 42 seconds </B> </font>. When compared, to the average time of 58 seconds, this is an extreme value and likelihood of this happening is almost impossible. And, surprisingly, the standard deviation is 25 minutes. Hence, <font color = \"blue\"> the range of values within 3 standard deviation is going to be around 75 minutes </font>. This is also very strange. Likewise, this need further analysis to tag this as fraud or system error."
   ]
  },
  {
   "cell_type": "code",
   "execution_count": null,
   "metadata": {},
   "outputs": [],
   "source": []
  },
  {
   "cell_type": "code",
   "execution_count": 71,
   "metadata": {},
   "outputs": [
    {
     "data": {
      "text/html": [
       "<div>\n",
       "<style scoped>\n",
       "    .dataframe tbody tr th:only-of-type {\n",
       "        vertical-align: middle;\n",
       "    }\n",
       "\n",
       "    .dataframe tbody tr th {\n",
       "        vertical-align: top;\n",
       "    }\n",
       "\n",
       "    .dataframe thead th {\n",
       "        text-align: right;\n",
       "    }\n",
       "</style>\n",
       "<table border=\"1\" class=\"dataframe\">\n",
       "  <thead>\n",
       "    <tr style=\"text-align: right;\">\n",
       "      <th></th>\n",
       "      <th>id_request</th>\n",
       "      <th>id_passenger</th>\n",
       "      <th>id_city</th>\n",
       "      <th>from_latitude</th>\n",
       "      <th>from_longitude</th>\n",
       "      <th>to_latitude</th>\n",
       "      <th>to_longitude</th>\n",
       "      <th>created_at</th>\n",
       "      <th>cancelled_at</th>\n",
       "      <th>timedout_at</th>\n",
       "      <th>...</th>\n",
       "      <th>Cre_Week_No</th>\n",
       "      <th>Cre_HourOfDay</th>\n",
       "      <th>Cre_MinOfDay</th>\n",
       "      <th>Ccl_Day_No_Week</th>\n",
       "      <th>Ccl_Day_Name</th>\n",
       "      <th>Ccl_Week_No</th>\n",
       "      <th>Ccl_HourOfDay</th>\n",
       "      <th>Ccl_MinOfDay</th>\n",
       "      <th>cancel_create_diff</th>\n",
       "      <th>timedout_created_diff</th>\n",
       "    </tr>\n",
       "  </thead>\n",
       "  <tbody>\n",
       "    <tr>\n",
       "      <th>0</th>\n",
       "      <td>3513924914</td>\n",
       "      <td>2590587260</td>\n",
       "      <td>1</td>\n",
       "      <td>19.593987</td>\n",
       "      <td>-99.039326</td>\n",
       "      <td>19.578557</td>\n",
       "      <td>-99.041541</td>\n",
       "      <td>2019-09-19 04:07:56</td>\n",
       "      <td>2019-09-19 04:08:01</td>\n",
       "      <td>NaT</td>\n",
       "      <td>...</td>\n",
       "      <td>38</td>\n",
       "      <td>4</td>\n",
       "      <td>7</td>\n",
       "      <td>3.0</td>\n",
       "      <td>Thursday</td>\n",
       "      <td>38.0</td>\n",
       "      <td>4.0</td>\n",
       "      <td>8.0</td>\n",
       "      <td>00:00:05</td>\n",
       "      <td>NaT</td>\n",
       "    </tr>\n",
       "    <tr>\n",
       "      <th>1</th>\n",
       "      <td>1594446343</td>\n",
       "      <td>1501665959</td>\n",
       "      <td>1</td>\n",
       "      <td>19.303307</td>\n",
       "      <td>-98.886432</td>\n",
       "      <td>19.261320</td>\n",
       "      <td>-98.878055</td>\n",
       "      <td>2019-09-19 22:44:43</td>\n",
       "      <td>0</td>\n",
       "      <td>NaT</td>\n",
       "      <td>...</td>\n",
       "      <td>38</td>\n",
       "      <td>22</td>\n",
       "      <td>44</td>\n",
       "      <td>NaN</td>\n",
       "      <td>NaN</td>\n",
       "      <td>NaN</td>\n",
       "      <td>NaN</td>\n",
       "      <td>NaN</td>\n",
       "      <td>NaT</td>\n",
       "      <td>NaT</td>\n",
       "    </tr>\n",
       "    <tr>\n",
       "      <th>2</th>\n",
       "      <td>2312709661</td>\n",
       "      <td>1546836297</td>\n",
       "      <td>1</td>\n",
       "      <td>19.326330</td>\n",
       "      <td>-99.121689</td>\n",
       "      <td>19.310036</td>\n",
       "      <td>-99.124487</td>\n",
       "      <td>2019-09-19 23:00:37</td>\n",
       "      <td>0</td>\n",
       "      <td>NaT</td>\n",
       "      <td>...</td>\n",
       "      <td>38</td>\n",
       "      <td>23</td>\n",
       "      <td>0</td>\n",
       "      <td>NaN</td>\n",
       "      <td>NaN</td>\n",
       "      <td>NaN</td>\n",
       "      <td>NaN</td>\n",
       "      <td>NaN</td>\n",
       "      <td>NaT</td>\n",
       "      <td>NaT</td>\n",
       "    </tr>\n",
       "    <tr>\n",
       "      <th>3</th>\n",
       "      <td>1498373688</td>\n",
       "      <td>2884063389</td>\n",
       "      <td>1</td>\n",
       "      <td>19.401755</td>\n",
       "      <td>-99.175365</td>\n",
       "      <td>19.400671</td>\n",
       "      <td>-99.188342</td>\n",
       "      <td>2019-09-20 16:31:24</td>\n",
       "      <td>0</td>\n",
       "      <td>NaT</td>\n",
       "      <td>...</td>\n",
       "      <td>38</td>\n",
       "      <td>16</td>\n",
       "      <td>31</td>\n",
       "      <td>NaN</td>\n",
       "      <td>NaN</td>\n",
       "      <td>NaN</td>\n",
       "      <td>NaN</td>\n",
       "      <td>NaN</td>\n",
       "      <td>NaT</td>\n",
       "      <td>NaT</td>\n",
       "    </tr>\n",
       "    <tr>\n",
       "      <th>4</th>\n",
       "      <td>197696634</td>\n",
       "      <td>2893722658</td>\n",
       "      <td>1</td>\n",
       "      <td>19.392388</td>\n",
       "      <td>-99.057337</td>\n",
       "      <td>19.370834</td>\n",
       "      <td>-99.005069</td>\n",
       "      <td>2019-09-20 23:26:56</td>\n",
       "      <td>2019-09-20 23:29:31</td>\n",
       "      <td>NaT</td>\n",
       "      <td>...</td>\n",
       "      <td>38</td>\n",
       "      <td>23</td>\n",
       "      <td>26</td>\n",
       "      <td>4.0</td>\n",
       "      <td>Friday</td>\n",
       "      <td>38.0</td>\n",
       "      <td>23.0</td>\n",
       "      <td>29.0</td>\n",
       "      <td>00:02:35</td>\n",
       "      <td>NaT</td>\n",
       "    </tr>\n",
       "  </tbody>\n",
       "</table>\n",
       "<p>5 rows × 31 columns</p>\n",
       "</div>"
      ],
      "text/plain": [
       "   id_request  id_passenger  id_city  from_latitude  from_longitude  \\\n",
       "0  3513924914    2590587260        1      19.593987      -99.039326   \n",
       "1  1594446343    1501665959        1      19.303307      -98.886432   \n",
       "2  2312709661    1546836297        1      19.326330      -99.121689   \n",
       "3  1498373688    2884063389        1      19.401755      -99.175365   \n",
       "4   197696634    2893722658        1      19.392388      -99.057337   \n",
       "\n",
       "   to_latitude  to_longitude          created_at         cancelled_at  \\\n",
       "0    19.578557    -99.041541 2019-09-19 04:07:56  2019-09-19 04:08:01   \n",
       "1    19.261320    -98.878055 2019-09-19 22:44:43                    0   \n",
       "2    19.310036    -99.124487 2019-09-19 23:00:37                    0   \n",
       "3    19.400671    -99.188342 2019-09-20 16:31:24                    0   \n",
       "4    19.370834    -99.005069 2019-09-20 23:26:56  2019-09-20 23:29:31   \n",
       "\n",
       "  timedout_at  ... Cre_Week_No Cre_HourOfDay  Cre_MinOfDay  Ccl_Day_No_Week  \\\n",
       "0         NaT  ...          38             4             7              3.0   \n",
       "1         NaT  ...          38            22            44              NaN   \n",
       "2         NaT  ...          38            23             0              NaN   \n",
       "3         NaT  ...          38            16            31              NaN   \n",
       "4         NaT  ...          38            23            26              4.0   \n",
       "\n",
       "   Ccl_Day_Name Ccl_Week_No Ccl_HourOfDay Ccl_MinOfDay cancel_create_diff  \\\n",
       "0      Thursday        38.0           4.0          8.0           00:00:05   \n",
       "1           NaN         NaN           NaN          NaN                NaT   \n",
       "2           NaN         NaN           NaN          NaN                NaT   \n",
       "3           NaN         NaN           NaN          NaN                NaT   \n",
       "4        Friday        38.0          23.0         29.0           00:02:35   \n",
       "\n",
       "   timedout_created_diff  \n",
       "0                    NaT  \n",
       "1                    NaT  \n",
       "2                    NaT  \n",
       "3                    NaT  \n",
       "4                    NaT  \n",
       "\n",
       "[5 rows x 31 columns]"
      ]
     },
     "execution_count": 71,
     "metadata": {},
     "output_type": "execute_result"
    }
   ],
   "source": [
    "df_req.head()"
   ]
  },
  {
   "cell_type": "code",
   "execution_count": 72,
   "metadata": {},
   "outputs": [
    {
     "data": {
      "text/plain": [
       "Index(['id_request', 'id_passenger', 'id_city', 'from_latitude',\n",
       "       'from_longitude', 'to_latitude', 'to_longitude', 'created_at',\n",
       "       'cancelled_at', 'timedout_at', 'passenger_device',\n",
       "       'passenger_payment_mean', 'passenger_udid', 'distance_estimate',\n",
       "       'duration_estimate', 'created_at_day', 'created_at_hour',\n",
       "       'cancelled_at_day', 'cancelled_at_hour', 'Cre_Day_No_Week',\n",
       "       'Cre_Day_Name', 'Cre_Week_No', 'Cre_HourOfDay', 'Cre_MinOfDay',\n",
       "       'Ccl_Day_No_Week', 'Ccl_Day_Name', 'Ccl_Week_No', 'Ccl_HourOfDay',\n",
       "       'Ccl_MinOfDay', 'cancel_create_diff', 'timedout_created_diff'],\n",
       "      dtype='object')"
      ]
     },
     "execution_count": 72,
     "metadata": {},
     "output_type": "execute_result"
    }
   ],
   "source": [
    "df_req.columns"
   ]
  },
  {
   "cell_type": "code",
   "execution_count": 73,
   "metadata": {},
   "outputs": [
    {
     "data": {
      "image/png": "[encoded data removed]",
      "text/plain": [
       "<Figure size 1008x576 with 2 Axes>"
      ]
     },
     "metadata": {
      "needs_background": "light"
     },
     "output_type": "display_data"
    }
   ],
   "source": [
    "df = df_req.groupby([\"Cre_Day_No_Week\", \"Cre_HourOfDay\"])[\"created_at\"].agg(\"count\").reset_index(name = \"count\")\n",
    "pivoted_df = df.pivot(\"Cre_Day_No_Week\", \"Cre_HourOfDay\", \"count\")\n",
    "#pivoted_df.head()\n",
    "plt.figure(figsize=(14,8))\n",
    "sns.heatmap(pivoted_df)\n",
    "plt.title(\"Total Creation Requests - Day of week Vs Hour of day\")\n",
    "plt.ylabel(\"Day of the week\", fontsize = 14)\n",
    "plt.xlabel(\"Hour of the Day\", fontsize = 14)\n",
    "plt.show()"
   ]
  },
  {
   "cell_type": "code",
   "execution_count": 74,
   "metadata": {},
   "outputs": [
    {
     "data": {
      "image/png": "[encoded data removed]",
      "text/plain": [
       "<Figure size 1008x576 with 2 Axes>"
      ]
     },
     "metadata": {
      "needs_background": "light"
     },
     "output_type": "display_data"
    }
   ],
   "source": [
    "df = df_req.groupby([\"Ccl_Day_No_Week\", \"Ccl_HourOfDay\"])[\"Ccl_Day_No_Week\"].agg(\"count\").reset_index(name = \"count\")\n",
    "pivoted_df = df.pivot(\"Ccl_Day_No_Week\", \"Ccl_HourOfDay\", \"count\")\n",
    "#pivoted_df.head()\n",
    "plt.figure(figsize=(14,8))\n",
    "sns.heatmap(pivoted_df)\n",
    "plt.title(\"Total Cancellation Requests - Day of week Vs Hour of day\")\n",
    "plt.ylabel(\"Day of the week\", fontsize = 14)\n",
    "plt.xlabel(\"Hour of the Day\", fontsize = 14)\n",
    "plt.show()"
   ]
  },
  {
   "cell_type": "markdown",
   "metadata": {},
   "source": [
    "Some Exploratory questions to ask are:  \n",
    "1) are the cancellation rates due to higher duration estimate? (so that they might choose other means of transport?  \n",
    "2) are the cancellation rates due to higher distance estimate ? (this is not a good question because they mostly know their     destniation and the distance)  \n",
    "3) Are cancellation higher rates due to frequent timedouts (drivers not being able to accept due to more volume of requests and less vehicle available to serve them?  "
   ]
  },
  {
   "cell_type": "code",
   "execution_count": 95,
   "metadata": {},
   "outputs": [
    {
     "data": {
      "text/plain": [
       "numpy.float64"
      ]
     },
     "execution_count": 95,
     "metadata": {},
     "output_type": "execute_result"
    }
   ],
   "source": [
    "type(df_req[\"cancel_create_diff\"][0])"
   ]
  },
  {
   "cell_type": "code",
   "execution_count": 96,
   "metadata": {},
   "outputs": [
    {
     "data": {
      "text/plain": [
       "5.0"
      ]
     },
     "execution_count": 96,
     "metadata": {},
     "output_type": "execute_result"
    }
   ],
   "source": [
    "df_req[\"cancel_create_diff\"][0]"
   ]
  },
  {
   "cell_type": "code",
   "execution_count": 99,
   "metadata": {},
   "outputs": [],
   "source": [
    "#converted the difference from timedelta format to seconds format\n",
    "df_req[\"cancel_create_diff\"] = [x.seconds for x in df_req[\"cancel_create_diff\"]]"
   ]
  },
  {
   "cell_type": "code",
   "execution_count": 108,
   "metadata": {},
   "outputs": [],
   "source": [
    "#the top 5 time periods within which the cancellation has happened (all are within 5 seconds)\n",
    "top_5_cancellation = df_req[\"cancel_create_diff\"].value_counts()[:5].values"
   ]
  },
  {
   "cell_type": "code",
   "execution_count": 148,
   "metadata": {},
   "outputs": [
    {
     "name": "stdout",
     "output_type": "stream",
     "text": [
      "the percentage of top 5 cancellation time requests  40.27% \n",
      "2.0    554374\n",
      "3.0    444274\n",
      "4.0    286607\n",
      "1.0    217907\n",
      "5.0    169853\n",
      "Name: cancel_create_diff, dtype: int64\n"
     ]
    }
   ],
   "source": [
    "#proportion of top 5 time periods with respect to total cancellation counts\n",
    "#sum(top_5_cancellation) / len(df_req[\"cancel_create_diff\"])\n",
    "#the percentage of top 5 cancellation request time periods vs total row  - total cancellation period \n",
    "#len_df_req_cancel  = len(df_req.loc[df_req[\"cancelled_at_day\"] != 0])\n",
    "print(\"the percentage of top 5 cancellation time requests  {}% \".format(round(((sum(top_5_cancellation))/ len_df_req_cancel)*100,2)))\n",
    "print(df_req[\"cancel_create_diff\"].value_counts()[:5])"
   ]
  },
  {
   "cell_type": "markdown",
   "metadata": {},
   "source": [
    "It can be seen from the first column of the analysis, the top 5 time period remains within 5 seconds.<font color = \"green\"> <B> We can see from the above figure that 40% of the total cancellation requests are below 5 seconds. </B> </font>"
   ]
  },
  {
   "cell_type": "code",
   "execution_count": 208,
   "metadata": {},
   "outputs": [
    {
     "data": {
      "text/html": [
       "<div>\n",
       "<style scoped>\n",
       "    .dataframe tbody tr th:only-of-type {\n",
       "        vertical-align: middle;\n",
       "    }\n",
       "\n",
       "    .dataframe tbody tr th {\n",
       "        vertical-align: top;\n",
       "    }\n",
       "\n",
       "    .dataframe thead th {\n",
       "        text-align: right;\n",
       "    }\n",
       "</style>\n",
       "<table border=\"1\" class=\"dataframe\">\n",
       "  <thead>\n",
       "    <tr style=\"text-align: right;\">\n",
       "      <th></th>\n",
       "      <th>id_request</th>\n",
       "      <th>id_passenger</th>\n",
       "      <th>id_city</th>\n",
       "      <th>from_latitude</th>\n",
       "      <th>from_longitude</th>\n",
       "      <th>to_latitude</th>\n",
       "      <th>to_longitude</th>\n",
       "      <th>created_at</th>\n",
       "      <th>cancelled_at</th>\n",
       "      <th>timedout_at</th>\n",
       "      <th>...</th>\n",
       "      <th>Cre_HourOfDay</th>\n",
       "      <th>Cre_MinOfDay</th>\n",
       "      <th>Ccl_Day_No_Week</th>\n",
       "      <th>Ccl_Day_Name</th>\n",
       "      <th>Ccl_Week_No</th>\n",
       "      <th>Ccl_HourOfDay</th>\n",
       "      <th>Ccl_MinOfDay</th>\n",
       "      <th>cancel_create_diff</th>\n",
       "      <th>timedout_created_diff</th>\n",
       "      <th>cre_can_less_5_sec</th>\n",
       "    </tr>\n",
       "  </thead>\n",
       "  <tbody>\n",
       "    <tr>\n",
       "      <th>0</th>\n",
       "      <td>3513924914</td>\n",
       "      <td>2590587260</td>\n",
       "      <td>1</td>\n",
       "      <td>19.593987</td>\n",
       "      <td>-99.039326</td>\n",
       "      <td>19.578557</td>\n",
       "      <td>-99.041541</td>\n",
       "      <td>2019-09-19 04:07:56</td>\n",
       "      <td>2019-09-19 04:08:01</td>\n",
       "      <td>NaT</td>\n",
       "      <td>...</td>\n",
       "      <td>4</td>\n",
       "      <td>7</td>\n",
       "      <td>3.0</td>\n",
       "      <td>Thursday</td>\n",
       "      <td>38.0</td>\n",
       "      <td>4.0</td>\n",
       "      <td>8.0</td>\n",
       "      <td>5.0</td>\n",
       "      <td>NaT</td>\n",
       "      <td>True</td>\n",
       "    </tr>\n",
       "    <tr>\n",
       "      <th>1</th>\n",
       "      <td>1594446343</td>\n",
       "      <td>1501665959</td>\n",
       "      <td>1</td>\n",
       "      <td>19.303307</td>\n",
       "      <td>-98.886432</td>\n",
       "      <td>19.261320</td>\n",
       "      <td>-98.878055</td>\n",
       "      <td>2019-09-19 22:44:43</td>\n",
       "      <td>0</td>\n",
       "      <td>NaT</td>\n",
       "      <td>...</td>\n",
       "      <td>22</td>\n",
       "      <td>44</td>\n",
       "      <td>NaN</td>\n",
       "      <td>NaN</td>\n",
       "      <td>NaN</td>\n",
       "      <td>NaN</td>\n",
       "      <td>NaN</td>\n",
       "      <td>NaN</td>\n",
       "      <td>NaT</td>\n",
       "      <td>NaN</td>\n",
       "    </tr>\n",
       "    <tr>\n",
       "      <th>2</th>\n",
       "      <td>2312709661</td>\n",
       "      <td>1546836297</td>\n",
       "      <td>1</td>\n",
       "      <td>19.326330</td>\n",
       "      <td>-99.121689</td>\n",
       "      <td>19.310036</td>\n",
       "      <td>-99.124487</td>\n",
       "      <td>2019-09-19 23:00:37</td>\n",
       "      <td>0</td>\n",
       "      <td>NaT</td>\n",
       "      <td>...</td>\n",
       "      <td>23</td>\n",
       "      <td>0</td>\n",
       "      <td>NaN</td>\n",
       "      <td>NaN</td>\n",
       "      <td>NaN</td>\n",
       "      <td>NaN</td>\n",
       "      <td>NaN</td>\n",
       "      <td>NaN</td>\n",
       "      <td>NaT</td>\n",
       "      <td>NaN</td>\n",
       "    </tr>\n",
       "    <tr>\n",
       "      <th>3</th>\n",
       "      <td>1498373688</td>\n",
       "      <td>2884063389</td>\n",
       "      <td>1</td>\n",
       "      <td>19.401755</td>\n",
       "      <td>-99.175365</td>\n",
       "      <td>19.400671</td>\n",
       "      <td>-99.188342</td>\n",
       "      <td>2019-09-20 16:31:24</td>\n",
       "      <td>0</td>\n",
       "      <td>NaT</td>\n",
       "      <td>...</td>\n",
       "      <td>16</td>\n",
       "      <td>31</td>\n",
       "      <td>NaN</td>\n",
       "      <td>NaN</td>\n",
       "      <td>NaN</td>\n",
       "      <td>NaN</td>\n",
       "      <td>NaN</td>\n",
       "      <td>NaN</td>\n",
       "      <td>NaT</td>\n",
       "      <td>NaN</td>\n",
       "    </tr>\n",
       "    <tr>\n",
       "      <th>4</th>\n",
       "      <td>197696634</td>\n",
       "      <td>2893722658</td>\n",
       "      <td>1</td>\n",
       "      <td>19.392388</td>\n",
       "      <td>-99.057337</td>\n",
       "      <td>19.370834</td>\n",
       "      <td>-99.005069</td>\n",
       "      <td>2019-09-20 23:26:56</td>\n",
       "      <td>2019-09-20 23:29:31</td>\n",
       "      <td>NaT</td>\n",
       "      <td>...</td>\n",
       "      <td>23</td>\n",
       "      <td>26</td>\n",
       "      <td>4.0</td>\n",
       "      <td>Friday</td>\n",
       "      <td>38.0</td>\n",
       "      <td>23.0</td>\n",
       "      <td>29.0</td>\n",
       "      <td>155.0</td>\n",
       "      <td>NaT</td>\n",
       "      <td>False</td>\n",
       "    </tr>\n",
       "  </tbody>\n",
       "</table>\n",
       "<p>5 rows × 32 columns</p>\n",
       "</div>"
      ],
      "text/plain": [
       "   id_request  id_passenger  id_city  from_latitude  from_longitude  \\\n",
       "0  3513924914    2590587260        1      19.593987      -99.039326   \n",
       "1  1594446343    1501665959        1      19.303307      -98.886432   \n",
       "2  2312709661    1546836297        1      19.326330      -99.121689   \n",
       "3  1498373688    2884063389        1      19.401755      -99.175365   \n",
       "4   197696634    2893722658        1      19.392388      -99.057337   \n",
       "\n",
       "   to_latitude  to_longitude          created_at         cancelled_at  \\\n",
       "0    19.578557    -99.041541 2019-09-19 04:07:56  2019-09-19 04:08:01   \n",
       "1    19.261320    -98.878055 2019-09-19 22:44:43                    0   \n",
       "2    19.310036    -99.124487 2019-09-19 23:00:37                    0   \n",
       "3    19.400671    -99.188342 2019-09-20 16:31:24                    0   \n",
       "4    19.370834    -99.005069 2019-09-20 23:26:56  2019-09-20 23:29:31   \n",
       "\n",
       "  timedout_at  ... Cre_HourOfDay Cre_MinOfDay  Ccl_Day_No_Week  Ccl_Day_Name  \\\n",
       "0         NaT  ...             4            7              3.0      Thursday   \n",
       "1         NaT  ...            22           44              NaN           NaN   \n",
       "2         NaT  ...            23            0              NaN           NaN   \n",
       "3         NaT  ...            16           31              NaN           NaN   \n",
       "4         NaT  ...            23           26              4.0        Friday   \n",
       "\n",
       "   Ccl_Week_No Ccl_HourOfDay Ccl_MinOfDay cancel_create_diff  \\\n",
       "0         38.0           4.0          8.0                5.0   \n",
       "1          NaN           NaN          NaN                NaN   \n",
       "2          NaN           NaN          NaN                NaN   \n",
       "3          NaN           NaN          NaN                NaN   \n",
       "4         38.0          23.0         29.0              155.0   \n",
       "\n",
       "  timedout_created_diff  cre_can_less_5_sec  \n",
       "0                   NaT                True  \n",
       "1                   NaT                 NaN  \n",
       "2                   NaT                 NaN  \n",
       "3                   NaT                 NaN  \n",
       "4                   NaT               False  \n",
       "\n",
       "[5 rows x 32 columns]"
      ]
     },
     "execution_count": 208,
     "metadata": {},
     "output_type": "execute_result"
    }
   ],
   "source": [
    "df_req.head()"
   ]
  },
  {
   "cell_type": "code",
   "execution_count": 149,
   "metadata": {},
   "outputs": [],
   "source": [
    "#10425144- total len of df_req\n",
    "#4154018 - len of df_req not null \n",
    "#6271126 - len of df_req being null"
   ]
  },
  {
   "cell_type": "code",
   "execution_count": null,
   "metadata": {},
   "outputs": [],
   "source": [
    "#boolean column for requests cancelled less than or equalto 5 seconds\n",
    "df_req[\"cre_can_less_5_sec\"] = [df_req[\"cancel_create_diff\"][i] <= 5.0 if math.isnan(df_req[\"cancel_create_diff\"][i]) != True else np.nan for i in range(len(df_req))]"
   ]
  },
  {
   "cell_type": "markdown",
   "metadata": {},
   "source": [
    "<B> The above feature engineering represented as <font color = \"blue\"> \"cre_can_less_5_sec\"</font> column gives information about the requests that has been cancelled within 5 seconds from the time of creation of requests. Now we can use this feature to understand various perspective of request.csv data <B> <I> <font color = \"blue\"> Let's first analyze if the there are any patterns with respect to a particular passenger trying to cancel rides often within first 5 seconds of request for a ride. </I></font>"
   ]
  },
  {
   "cell_type": "code",
   "execution_count": 209,
   "metadata": {},
   "outputs": [
    {
     "data": {
      "text/html": [
       "<div>\n",
       "<style scoped>\n",
       "    .dataframe tbody tr th:only-of-type {\n",
       "        vertical-align: middle;\n",
       "    }\n",
       "\n",
       "    .dataframe tbody tr th {\n",
       "        vertical-align: top;\n",
       "    }\n",
       "\n",
       "    .dataframe thead th {\n",
       "        text-align: right;\n",
       "    }\n",
       "</style>\n",
       "<table border=\"1\" class=\"dataframe\">\n",
       "  <thead>\n",
       "    <tr style=\"text-align: right;\">\n",
       "      <th></th>\n",
       "      <th>id_request</th>\n",
       "      <th>id_passenger</th>\n",
       "      <th>id_city</th>\n",
       "      <th>from_latitude</th>\n",
       "      <th>from_longitude</th>\n",
       "      <th>to_latitude</th>\n",
       "      <th>to_longitude</th>\n",
       "      <th>created_at</th>\n",
       "      <th>cancelled_at</th>\n",
       "      <th>timedout_at</th>\n",
       "      <th>...</th>\n",
       "      <th>Cre_HourOfDay</th>\n",
       "      <th>Cre_MinOfDay</th>\n",
       "      <th>Ccl_Day_No_Week</th>\n",
       "      <th>Ccl_Day_Name</th>\n",
       "      <th>Ccl_Week_No</th>\n",
       "      <th>Ccl_HourOfDay</th>\n",
       "      <th>Ccl_MinOfDay</th>\n",
       "      <th>cancel_create_diff</th>\n",
       "      <th>timedout_created_diff</th>\n",
       "      <th>cre_can_less_5_sec</th>\n",
       "    </tr>\n",
       "  </thead>\n",
       "  <tbody>\n",
       "    <tr>\n",
       "      <th>0</th>\n",
       "      <td>3513924914</td>\n",
       "      <td>2590587260</td>\n",
       "      <td>1</td>\n",
       "      <td>19.593987</td>\n",
       "      <td>-99.039326</td>\n",
       "      <td>19.578557</td>\n",
       "      <td>-99.041541</td>\n",
       "      <td>2019-09-19 04:07:56</td>\n",
       "      <td>2019-09-19 04:08:01</td>\n",
       "      <td>NaT</td>\n",
       "      <td>...</td>\n",
       "      <td>4</td>\n",
       "      <td>7</td>\n",
       "      <td>3.0</td>\n",
       "      <td>Thursday</td>\n",
       "      <td>38.0</td>\n",
       "      <td>4.0</td>\n",
       "      <td>8.0</td>\n",
       "      <td>5.0</td>\n",
       "      <td>NaT</td>\n",
       "      <td>True</td>\n",
       "    </tr>\n",
       "    <tr>\n",
       "      <th>1</th>\n",
       "      <td>1594446343</td>\n",
       "      <td>1501665959</td>\n",
       "      <td>1</td>\n",
       "      <td>19.303307</td>\n",
       "      <td>-98.886432</td>\n",
       "      <td>19.261320</td>\n",
       "      <td>-98.878055</td>\n",
       "      <td>2019-09-19 22:44:43</td>\n",
       "      <td>0</td>\n",
       "      <td>NaT</td>\n",
       "      <td>...</td>\n",
       "      <td>22</td>\n",
       "      <td>44</td>\n",
       "      <td>NaN</td>\n",
       "      <td>NaN</td>\n",
       "      <td>NaN</td>\n",
       "      <td>NaN</td>\n",
       "      <td>NaN</td>\n",
       "      <td>NaN</td>\n",
       "      <td>NaT</td>\n",
       "      <td>NaN</td>\n",
       "    </tr>\n",
       "    <tr>\n",
       "      <th>2</th>\n",
       "      <td>2312709661</td>\n",
       "      <td>1546836297</td>\n",
       "      <td>1</td>\n",
       "      <td>19.326330</td>\n",
       "      <td>-99.121689</td>\n",
       "      <td>19.310036</td>\n",
       "      <td>-99.124487</td>\n",
       "      <td>2019-09-19 23:00:37</td>\n",
       "      <td>0</td>\n",
       "      <td>NaT</td>\n",
       "      <td>...</td>\n",
       "      <td>23</td>\n",
       "      <td>0</td>\n",
       "      <td>NaN</td>\n",
       "      <td>NaN</td>\n",
       "      <td>NaN</td>\n",
       "      <td>NaN</td>\n",
       "      <td>NaN</td>\n",
       "      <td>NaN</td>\n",
       "      <td>NaT</td>\n",
       "      <td>NaN</td>\n",
       "    </tr>\n",
       "    <tr>\n",
       "      <th>3</th>\n",
       "      <td>1498373688</td>\n",
       "      <td>2884063389</td>\n",
       "      <td>1</td>\n",
       "      <td>19.401755</td>\n",
       "      <td>-99.175365</td>\n",
       "      <td>19.400671</td>\n",
       "      <td>-99.188342</td>\n",
       "      <td>2019-09-20 16:31:24</td>\n",
       "      <td>0</td>\n",
       "      <td>NaT</td>\n",
       "      <td>...</td>\n",
       "      <td>16</td>\n",
       "      <td>31</td>\n",
       "      <td>NaN</td>\n",
       "      <td>NaN</td>\n",
       "      <td>NaN</td>\n",
       "      <td>NaN</td>\n",
       "      <td>NaN</td>\n",
       "      <td>NaN</td>\n",
       "      <td>NaT</td>\n",
       "      <td>NaN</td>\n",
       "    </tr>\n",
       "    <tr>\n",
       "      <th>4</th>\n",
       "      <td>197696634</td>\n",
       "      <td>2893722658</td>\n",
       "      <td>1</td>\n",
       "      <td>19.392388</td>\n",
       "      <td>-99.057337</td>\n",
       "      <td>19.370834</td>\n",
       "      <td>-99.005069</td>\n",
       "      <td>2019-09-20 23:26:56</td>\n",
       "      <td>2019-09-20 23:29:31</td>\n",
       "      <td>NaT</td>\n",
       "      <td>...</td>\n",
       "      <td>23</td>\n",
       "      <td>26</td>\n",
       "      <td>4.0</td>\n",
       "      <td>Friday</td>\n",
       "      <td>38.0</td>\n",
       "      <td>23.0</td>\n",
       "      <td>29.0</td>\n",
       "      <td>155.0</td>\n",
       "      <td>NaT</td>\n",
       "      <td>False</td>\n",
       "    </tr>\n",
       "  </tbody>\n",
       "</table>\n",
       "<p>5 rows × 32 columns</p>\n",
       "</div>"
      ],
      "text/plain": [
       "   id_request  id_passenger  id_city  from_latitude  from_longitude  \\\n",
       "0  3513924914    2590587260        1      19.593987      -99.039326   \n",
       "1  1594446343    1501665959        1      19.303307      -98.886432   \n",
       "2  2312709661    1546836297        1      19.326330      -99.121689   \n",
       "3  1498373688    2884063389        1      19.401755      -99.175365   \n",
       "4   197696634    2893722658        1      19.392388      -99.057337   \n",
       "\n",
       "   to_latitude  to_longitude          created_at         cancelled_at  \\\n",
       "0    19.578557    -99.041541 2019-09-19 04:07:56  2019-09-19 04:08:01   \n",
       "1    19.261320    -98.878055 2019-09-19 22:44:43                    0   \n",
       "2    19.310036    -99.124487 2019-09-19 23:00:37                    0   \n",
       "3    19.400671    -99.188342 2019-09-20 16:31:24                    0   \n",
       "4    19.370834    -99.005069 2019-09-20 23:26:56  2019-09-20 23:29:31   \n",
       "\n",
       "  timedout_at  ... Cre_HourOfDay Cre_MinOfDay  Ccl_Day_No_Week  Ccl_Day_Name  \\\n",
       "0         NaT  ...             4            7              3.0      Thursday   \n",
       "1         NaT  ...            22           44              NaN           NaN   \n",
       "2         NaT  ...            23            0              NaN           NaN   \n",
       "3         NaT  ...            16           31              NaN           NaN   \n",
       "4         NaT  ...            23           26              4.0        Friday   \n",
       "\n",
       "   Ccl_Week_No Ccl_HourOfDay Ccl_MinOfDay cancel_create_diff  \\\n",
       "0         38.0           4.0          8.0                5.0   \n",
       "1          NaN           NaN          NaN                NaN   \n",
       "2          NaN           NaN          NaN                NaN   \n",
       "3          NaN           NaN          NaN                NaN   \n",
       "4         38.0          23.0         29.0              155.0   \n",
       "\n",
       "  timedout_created_diff  cre_can_less_5_sec  \n",
       "0                   NaT                True  \n",
       "1                   NaT                 NaN  \n",
       "2                   NaT                 NaN  \n",
       "3                   NaT                 NaN  \n",
       "4                   NaT               False  \n",
       "\n",
       "[5 rows x 32 columns]"
      ]
     },
     "execution_count": 209,
     "metadata": {},
     "output_type": "execute_result"
    }
   ],
   "source": [
    "df_req.head()"
   ]
  },
  {
   "cell_type": "code",
   "execution_count": 228,
   "metadata": {},
   "outputs": [],
   "source": [
    "id_pass_list_index = list(df_req.loc[df_req[\"cre_can_less_5_sec\"] == True].groupby(\"id_passenger\")[\"id_request\"].count().index)\n",
    "id_pass_list_val = list(df_req.loc[df_req[\"cre_can_less_5_sec\"] == True].groupby(\"id_passenger\")[\"id_request\"].count().values)"
   ]
  },
  {
   "cell_type": "code",
   "execution_count": 229,
   "metadata": {},
   "outputs": [],
   "source": [
    "pass_list = tupler(id_pass_list_index,id_pass_list_val)"
   ]
  },
  {
   "cell_type": "code",
   "execution_count": 346,
   "metadata": {},
   "outputs": [
    {
     "name": "stdout",
     "output_type": "stream",
     "text": [
      "The passenger with id 3316479091 has 370 cancellation requests within 5 seconds\n",
      "The passenger with id 1195735680 has 338 cancellation requests within 5 seconds\n",
      "The passenger with id 3057540022 has 298 cancellation requests within 5 seconds\n",
      "The passenger with id 1494610311 has 254 cancellation requests within 5 seconds\n",
      "The passenger with id 1864961307 has 233 cancellation requests within 5 seconds\n",
      "The passenger with id 3993690883 has 228 cancellation requests within 5 seconds\n",
      "The passenger with id 946190519 has 227 cancellation requests within 5 seconds\n",
      "The passenger with id 4185087271 has 226 cancellation requests within 5 seconds\n",
      "The passenger with id 1159418890 has 226 cancellation requests within 5 seconds\n",
      "The passenger with id 4077594337 has 224 cancellation requests within 5 seconds\n",
      "The passenger with id 3033869202 has 223 cancellation requests within 5 seconds\n",
      "The passenger with id 1738280224 has 222 cancellation requests within 5 seconds\n",
      "The passenger with id 82122439 has 211 cancellation requests within 5 seconds\n",
      "The passenger with id 1366408160 has 210 cancellation requests within 5 seconds\n",
      "The passenger with id 4268318197 has 209 cancellation requests within 5 seconds\n",
      "The passenger with id 3698992680 has 209 cancellation requests within 5 seconds\n",
      "The passenger with id 1872227023 has 208 cancellation requests within 5 seconds\n",
      "The passenger with id 4150229924 has 207 cancellation requests within 5 seconds\n",
      "The passenger with id 2303937067 has 207 cancellation requests within 5 seconds\n",
      "The passenger with id 1917080353 has 201 cancellation requests within 5 seconds\n",
      "The passenger with id 95754190 has 199 cancellation requests within 5 seconds\n"
     ]
    }
   ],
   "source": [
    "#import operator\n",
    "#pass_list.sort(key = operator.itemgetter(1))\n",
    "pass_list_sort = pass_list[-21:][::-1]\n",
    "for i,j in pass_list_sort:\n",
    "    print(\"The passenger with id {} has {} cancellation requests within 5 seconds\".format(i,j))"
   ]
  },
  {
   "cell_type": "markdown",
   "metadata": {},
   "source": [
    "<font color = \"red\"> <B> The above analysis shows a basic EDA of the top 20 passengers with most cancellations within 5 seconds from the time of request </B> </font> We can now compare the timestamp between the request cancellations to see if there are ay patterns to observe and understand fraud behaviour if exists"
   ]
  },
  {
   "cell_type": "code",
   "execution_count": null,
   "metadata": {},
   "outputs": [],
   "source": [
    "#downloading data for tableau viz\n",
    "df_req.loc[df_req[\"cre_can_less_5_sec\"] == True][[\"id_passenger\",\"id_city\",\"from_latitude\",\"from_longitude\",\"to_latitude\",\"to_longitude\",\"cancel_create_diff\",\"cre_can_less_5_sec\"]].to_excel(\"passenger_data.xlsx\")"
   ]
  },
  {
   "cell_type": "code",
   "execution_count": 262,
   "metadata": {},
   "outputs": [
    {
     "data": {
      "text/plain": [
       "id_city\n",
       "1    1646804\n",
       "2      19710\n",
       "3       8342\n",
       "Name: id_passenger, dtype: int64"
      ]
     },
     "execution_count": 262,
     "metadata": {},
     "output_type": "execute_result"
    }
   ],
   "source": [
    "df_req.loc[df_req[\"cre_can_less_5_sec\"] == True].groupby(\"id_city\")[\"id_passenger\"].count()"
   ]
  },
  {
   "cell_type": "code",
   "execution_count": 269,
   "metadata": {},
   "outputs": [
    {
     "name": "stdout",
     "output_type": "stream",
     "text": [
      "The percentage of passenger who cancel from city id 1 is 98.33%\n"
     ]
    }
   ],
   "source": [
    "print(\"The percentage of passenger who cancel from city id 1 is {}%\".format(round(1646804/(1646804 + 19710 + 8342)*100,2)))"
   ]
  },
  {
   "cell_type": "markdown",
   "metadata": {},
   "source": [
    "<B> from the above results, we can see that 98.3% of the cancellation requests that are cancelled within 5 seconds are made from the city with id 1 </B>. That is pretty higher!!!"
   ]
  },
  {
   "cell_type": "code",
   "execution_count": null,
   "metadata": {},
   "outputs": [],
   "source": [
    "#passenger device/model analysis\n",
    "df_req[\"device\"] = [df_req[\"passenger_device\"][i].split(\"/\")[0] for i in range(len(df_req[\"passenger_device\"]))]\n",
    "df_req[\"model\"] = [df_req[\"passenger_device\"][i].split(\"/\")[1] for i in range(len(df_req[\"passenger_device\"]))]"
   ]
  },
  {
   "cell_type": "code",
   "execution_count": 289,
   "metadata": {},
   "outputs": [
    {
     "data": {
      "text/html": [
       "<div>\n",
       "<style scoped>\n",
       "    .dataframe tbody tr th:only-of-type {\n",
       "        vertical-align: middle;\n",
       "    }\n",
       "\n",
       "    .dataframe tbody tr th {\n",
       "        vertical-align: top;\n",
       "    }\n",
       "\n",
       "    .dataframe thead th {\n",
       "        text-align: right;\n",
       "    }\n",
       "</style>\n",
       "<table border=\"1\" class=\"dataframe\">\n",
       "  <thead>\n",
       "    <tr style=\"text-align: right;\">\n",
       "      <th></th>\n",
       "      <th>id_request</th>\n",
       "      <th>id_passenger</th>\n",
       "      <th>id_city</th>\n",
       "      <th>from_latitude</th>\n",
       "      <th>from_longitude</th>\n",
       "      <th>to_latitude</th>\n",
       "      <th>to_longitude</th>\n",
       "      <th>created_at</th>\n",
       "      <th>cancelled_at</th>\n",
       "      <th>timedout_at</th>\n",
       "      <th>...</th>\n",
       "      <th>Cre_MinOfDay</th>\n",
       "      <th>Ccl_Day_No_Week</th>\n",
       "      <th>Ccl_Day_Name</th>\n",
       "      <th>Ccl_Week_No</th>\n",
       "      <th>Ccl_HourOfDay</th>\n",
       "      <th>Ccl_MinOfDay</th>\n",
       "      <th>cancel_create_diff</th>\n",
       "      <th>timedout_created_diff</th>\n",
       "      <th>cre_can_less_5_sec</th>\n",
       "      <th>device</th>\n",
       "    </tr>\n",
       "  </thead>\n",
       "  <tbody>\n",
       "    <tr>\n",
       "      <th>0</th>\n",
       "      <td>3513924914</td>\n",
       "      <td>2590587260</td>\n",
       "      <td>1</td>\n",
       "      <td>19.593987</td>\n",
       "      <td>-99.039326</td>\n",
       "      <td>19.578557</td>\n",
       "      <td>-99.041541</td>\n",
       "      <td>2019-09-19 04:07:56</td>\n",
       "      <td>2019-09-19 04:08:01</td>\n",
       "      <td>NaT</td>\n",
       "      <td>...</td>\n",
       "      <td>7</td>\n",
       "      <td>3.0</td>\n",
       "      <td>Thursday</td>\n",
       "      <td>38.0</td>\n",
       "      <td>4.0</td>\n",
       "      <td>8.0</td>\n",
       "      <td>5.0</td>\n",
       "      <td>NaT</td>\n",
       "      <td>True</td>\n",
       "      <td>PIXI5-6_4G</td>\n",
       "    </tr>\n",
       "    <tr>\n",
       "      <th>1</th>\n",
       "      <td>1594446343</td>\n",
       "      <td>1501665959</td>\n",
       "      <td>1</td>\n",
       "      <td>19.303307</td>\n",
       "      <td>-98.886432</td>\n",
       "      <td>19.261320</td>\n",
       "      <td>-98.878055</td>\n",
       "      <td>2019-09-19 22:44:43</td>\n",
       "      <td>0</td>\n",
       "      <td>NaT</td>\n",
       "      <td>...</td>\n",
       "      <td>44</td>\n",
       "      <td>NaN</td>\n",
       "      <td>NaN</td>\n",
       "      <td>NaN</td>\n",
       "      <td>NaN</td>\n",
       "      <td>NaN</td>\n",
       "      <td>NaN</td>\n",
       "      <td>NaT</td>\n",
       "      <td>NaN</td>\n",
       "      <td>tissot_sprout</td>\n",
       "    </tr>\n",
       "    <tr>\n",
       "      <th>2</th>\n",
       "      <td>2312709661</td>\n",
       "      <td>1546836297</td>\n",
       "      <td>1</td>\n",
       "      <td>19.326330</td>\n",
       "      <td>-99.121689</td>\n",
       "      <td>19.310036</td>\n",
       "      <td>-99.124487</td>\n",
       "      <td>2019-09-19 23:00:37</td>\n",
       "      <td>0</td>\n",
       "      <td>NaT</td>\n",
       "      <td>...</td>\n",
       "      <td>0</td>\n",
       "      <td>NaN</td>\n",
       "      <td>NaN</td>\n",
       "      <td>NaN</td>\n",
       "      <td>NaN</td>\n",
       "      <td>NaN</td>\n",
       "      <td>NaN</td>\n",
       "      <td>NaT</td>\n",
       "      <td>NaN</td>\n",
       "      <td>deen_sprout</td>\n",
       "    </tr>\n",
       "    <tr>\n",
       "      <th>3</th>\n",
       "      <td>1498373688</td>\n",
       "      <td>2884063389</td>\n",
       "      <td>1</td>\n",
       "      <td>19.401755</td>\n",
       "      <td>-99.175365</td>\n",
       "      <td>19.400671</td>\n",
       "      <td>-99.188342</td>\n",
       "      <td>2019-09-20 16:31:24</td>\n",
       "      <td>0</td>\n",
       "      <td>NaT</td>\n",
       "      <td>...</td>\n",
       "      <td>31</td>\n",
       "      <td>NaN</td>\n",
       "      <td>NaN</td>\n",
       "      <td>NaN</td>\n",
       "      <td>NaN</td>\n",
       "      <td>NaN</td>\n",
       "      <td>NaN</td>\n",
       "      <td>NaT</td>\n",
       "      <td>NaN</td>\n",
       "      <td>HWNXT</td>\n",
       "    </tr>\n",
       "    <tr>\n",
       "      <th>4</th>\n",
       "      <td>197696634</td>\n",
       "      <td>2893722658</td>\n",
       "      <td>1</td>\n",
       "      <td>19.392388</td>\n",
       "      <td>-99.057337</td>\n",
       "      <td>19.370834</td>\n",
       "      <td>-99.005069</td>\n",
       "      <td>2019-09-20 23:26:56</td>\n",
       "      <td>2019-09-20 23:29:31</td>\n",
       "      <td>NaT</td>\n",
       "      <td>...</td>\n",
       "      <td>26</td>\n",
       "      <td>4.0</td>\n",
       "      <td>Friday</td>\n",
       "      <td>38.0</td>\n",
       "      <td>23.0</td>\n",
       "      <td>29.0</td>\n",
       "      <td>155.0</td>\n",
       "      <td>NaT</td>\n",
       "      <td>False</td>\n",
       "      <td>dream2lte</td>\n",
       "    </tr>\n",
       "  </tbody>\n",
       "</table>\n",
       "<p>5 rows × 33 columns</p>\n",
       "</div>"
      ],
      "text/plain": [
       "   id_request  id_passenger  id_city  from_latitude  from_longitude  \\\n",
       "0  3513924914    2590587260        1      19.593987      -99.039326   \n",
       "1  1594446343    1501665959        1      19.303307      -98.886432   \n",
       "2  2312709661    1546836297        1      19.326330      -99.121689   \n",
       "3  1498373688    2884063389        1      19.401755      -99.175365   \n",
       "4   197696634    2893722658        1      19.392388      -99.057337   \n",
       "\n",
       "   to_latitude  to_longitude          created_at         cancelled_at  \\\n",
       "0    19.578557    -99.041541 2019-09-19 04:07:56  2019-09-19 04:08:01   \n",
       "1    19.261320    -98.878055 2019-09-19 22:44:43                    0   \n",
       "2    19.310036    -99.124487 2019-09-19 23:00:37                    0   \n",
       "3    19.400671    -99.188342 2019-09-20 16:31:24                    0   \n",
       "4    19.370834    -99.005069 2019-09-20 23:26:56  2019-09-20 23:29:31   \n",
       "\n",
       "  timedout_at  ... Cre_MinOfDay Ccl_Day_No_Week  Ccl_Day_Name  Ccl_Week_No  \\\n",
       "0         NaT  ...            7             3.0      Thursday         38.0   \n",
       "1         NaT  ...           44             NaN           NaN          NaN   \n",
       "2         NaT  ...            0             NaN           NaN          NaN   \n",
       "3         NaT  ...           31             NaN           NaN          NaN   \n",
       "4         NaT  ...           26             4.0        Friday         38.0   \n",
       "\n",
       "   Ccl_HourOfDay Ccl_MinOfDay cancel_create_diff timedout_created_diff  \\\n",
       "0            4.0          8.0                5.0                   NaT   \n",
       "1            NaN          NaN                NaN                   NaT   \n",
       "2            NaN          NaN                NaN                   NaT   \n",
       "3            NaN          NaN                NaN                   NaT   \n",
       "4           23.0         29.0              155.0                   NaT   \n",
       "\n",
       "  cre_can_less_5_sec         device  \n",
       "0               True     PIXI5-6_4G  \n",
       "1                NaN  tissot_sprout  \n",
       "2                NaN    deen_sprout  \n",
       "3                NaN          HWNXT  \n",
       "4              False      dream2lte  \n",
       "\n",
       "[5 rows x 33 columns]"
      ]
     },
     "execution_count": 289,
     "metadata": {},
     "output_type": "execute_result"
    }
   ],
   "source": [
    "df_req.head()"
   ]
  },
  {
   "cell_type": "markdown",
   "metadata": {},
   "source": [
    "<B> the above feature engineering is done to separate the device and model names. This will help us analyze if there are any patterns in cancellation devices. Also, we have the top 20 most cancelled passenger id and we can now see if fraudsters are using devices or devices to make any fraud attempts or hacks </B>"
   ]
  },
  {
   "cell_type": "code",
   "execution_count": 290,
   "metadata": {},
   "outputs": [
    {
     "name": "stdout",
     "output_type": "stream",
     "text": [
      "[('HWJKM-H', 284161), ('HWANE', 262853), ('iPhone7,2', 242297), ('aljeter', 226180), ('iPhone9,3', 215735), ('ocean', 177103), ('HWSNE', 163062), ('deen_sprout', 161172), ('iPhone8,1', 160196), ('iPhone10,5', 158976), ('potter_n', 154726), ('iPhone9,4', 149796), ('HWMAR', 141993), ('nora_8917', 140171), ('iPhone10,4', 137003), ('on7xelte', 133108), ('iPhone11,8', 124275), ('evert_n', 122556), ('cedric', 118574), ('hero2lte', 118304)]\n"
     ]
    }
   ],
   "source": [
    "#Top device analysis - Basic Exploratory Analysis\n",
    "dev_index = df_req[\"device\"].value_counts().index\n",
    "dev_values = df_req[\"device\"].value_counts().values\n",
    "dev_ind_val_list = tupler(dev_index, dev_values)\n",
    "dev_ind_val_list.sort(key = operator.itemgetter(1), reverse = True)\n",
    "print(dev_ind_val_list[0:20])"
   ]
  },
  {
   "cell_type": "code",
   "execution_count": 309,
   "metadata": {},
   "outputs": [
    {
     "data": {
      "text/html": [
       "<div>\n",
       "<style scoped>\n",
       "    .dataframe tbody tr th:only-of-type {\n",
       "        vertical-align: middle;\n",
       "    }\n",
       "\n",
       "    .dataframe tbody tr th {\n",
       "        vertical-align: top;\n",
       "    }\n",
       "\n",
       "    .dataframe thead th {\n",
       "        text-align: right;\n",
       "    }\n",
       "</style>\n",
       "<table border=\"1\" class=\"dataframe\">\n",
       "  <thead>\n",
       "    <tr style=\"text-align: right;\">\n",
       "      <th></th>\n",
       "      <th>id_request</th>\n",
       "      <th>id_passenger</th>\n",
       "      <th>id_city</th>\n",
       "      <th>from_latitude</th>\n",
       "      <th>from_longitude</th>\n",
       "      <th>to_latitude</th>\n",
       "      <th>to_longitude</th>\n",
       "      <th>created_at</th>\n",
       "      <th>cancelled_at</th>\n",
       "      <th>timedout_at</th>\n",
       "      <th>...</th>\n",
       "      <th>Cre_MinOfDay</th>\n",
       "      <th>Ccl_Day_No_Week</th>\n",
       "      <th>Ccl_Day_Name</th>\n",
       "      <th>Ccl_Week_No</th>\n",
       "      <th>Ccl_HourOfDay</th>\n",
       "      <th>Ccl_MinOfDay</th>\n",
       "      <th>cancel_create_diff</th>\n",
       "      <th>timedout_created_diff</th>\n",
       "      <th>cre_can_less_5_sec</th>\n",
       "      <th>device</th>\n",
       "    </tr>\n",
       "  </thead>\n",
       "  <tbody>\n",
       "    <tr>\n",
       "      <th>0</th>\n",
       "      <td>3513924914</td>\n",
       "      <td>2590587260</td>\n",
       "      <td>1</td>\n",
       "      <td>19.593987</td>\n",
       "      <td>-99.039326</td>\n",
       "      <td>19.578557</td>\n",
       "      <td>-99.041541</td>\n",
       "      <td>2019-09-19 04:07:56</td>\n",
       "      <td>2019-09-19 04:08:01</td>\n",
       "      <td>NaT</td>\n",
       "      <td>...</td>\n",
       "      <td>7</td>\n",
       "      <td>3.0</td>\n",
       "      <td>Thursday</td>\n",
       "      <td>38.0</td>\n",
       "      <td>4.0</td>\n",
       "      <td>8.0</td>\n",
       "      <td>5.0</td>\n",
       "      <td>NaT</td>\n",
       "      <td>True</td>\n",
       "      <td>PIXI5-6_4G</td>\n",
       "    </tr>\n",
       "    <tr>\n",
       "      <th>1</th>\n",
       "      <td>1594446343</td>\n",
       "      <td>1501665959</td>\n",
       "      <td>1</td>\n",
       "      <td>19.303307</td>\n",
       "      <td>-98.886432</td>\n",
       "      <td>19.261320</td>\n",
       "      <td>-98.878055</td>\n",
       "      <td>2019-09-19 22:44:43</td>\n",
       "      <td>0</td>\n",
       "      <td>NaT</td>\n",
       "      <td>...</td>\n",
       "      <td>44</td>\n",
       "      <td>NaN</td>\n",
       "      <td>NaN</td>\n",
       "      <td>NaN</td>\n",
       "      <td>NaN</td>\n",
       "      <td>NaN</td>\n",
       "      <td>NaN</td>\n",
       "      <td>NaT</td>\n",
       "      <td>NaN</td>\n",
       "      <td>tissot_sprout</td>\n",
       "    </tr>\n",
       "    <tr>\n",
       "      <th>2</th>\n",
       "      <td>2312709661</td>\n",
       "      <td>1546836297</td>\n",
       "      <td>1</td>\n",
       "      <td>19.326330</td>\n",
       "      <td>-99.121689</td>\n",
       "      <td>19.310036</td>\n",
       "      <td>-99.124487</td>\n",
       "      <td>2019-09-19 23:00:37</td>\n",
       "      <td>0</td>\n",
       "      <td>NaT</td>\n",
       "      <td>...</td>\n",
       "      <td>0</td>\n",
       "      <td>NaN</td>\n",
       "      <td>NaN</td>\n",
       "      <td>NaN</td>\n",
       "      <td>NaN</td>\n",
       "      <td>NaN</td>\n",
       "      <td>NaN</td>\n",
       "      <td>NaT</td>\n",
       "      <td>NaN</td>\n",
       "      <td>deen_sprout</td>\n",
       "    </tr>\n",
       "    <tr>\n",
       "      <th>3</th>\n",
       "      <td>1498373688</td>\n",
       "      <td>2884063389</td>\n",
       "      <td>1</td>\n",
       "      <td>19.401755</td>\n",
       "      <td>-99.175365</td>\n",
       "      <td>19.400671</td>\n",
       "      <td>-99.188342</td>\n",
       "      <td>2019-09-20 16:31:24</td>\n",
       "      <td>0</td>\n",
       "      <td>NaT</td>\n",
       "      <td>...</td>\n",
       "      <td>31</td>\n",
       "      <td>NaN</td>\n",
       "      <td>NaN</td>\n",
       "      <td>NaN</td>\n",
       "      <td>NaN</td>\n",
       "      <td>NaN</td>\n",
       "      <td>NaN</td>\n",
       "      <td>NaT</td>\n",
       "      <td>NaN</td>\n",
       "      <td>HWNXT</td>\n",
       "    </tr>\n",
       "    <tr>\n",
       "      <th>4</th>\n",
       "      <td>197696634</td>\n",
       "      <td>2893722658</td>\n",
       "      <td>1</td>\n",
       "      <td>19.392388</td>\n",
       "      <td>-99.057337</td>\n",
       "      <td>19.370834</td>\n",
       "      <td>-99.005069</td>\n",
       "      <td>2019-09-20 23:26:56</td>\n",
       "      <td>2019-09-20 23:29:31</td>\n",
       "      <td>NaT</td>\n",
       "      <td>...</td>\n",
       "      <td>26</td>\n",
       "      <td>4.0</td>\n",
       "      <td>Friday</td>\n",
       "      <td>38.0</td>\n",
       "      <td>23.0</td>\n",
       "      <td>29.0</td>\n",
       "      <td>155.0</td>\n",
       "      <td>NaT</td>\n",
       "      <td>False</td>\n",
       "      <td>dream2lte</td>\n",
       "    </tr>\n",
       "  </tbody>\n",
       "</table>\n",
       "<p>5 rows × 33 columns</p>\n",
       "</div>"
      ],
      "text/plain": [
       "   id_request  id_passenger  id_city  from_latitude  from_longitude  \\\n",
       "0  3513924914    2590587260        1      19.593987      -99.039326   \n",
       "1  1594446343    1501665959        1      19.303307      -98.886432   \n",
       "2  2312709661    1546836297        1      19.326330      -99.121689   \n",
       "3  1498373688    2884063389        1      19.401755      -99.175365   \n",
       "4   197696634    2893722658        1      19.392388      -99.057337   \n",
       "\n",
       "   to_latitude  to_longitude          created_at         cancelled_at  \\\n",
       "0    19.578557    -99.041541 2019-09-19 04:07:56  2019-09-19 04:08:01   \n",
       "1    19.261320    -98.878055 2019-09-19 22:44:43                    0   \n",
       "2    19.310036    -99.124487 2019-09-19 23:00:37                    0   \n",
       "3    19.400671    -99.188342 2019-09-20 16:31:24                    0   \n",
       "4    19.370834    -99.005069 2019-09-20 23:26:56  2019-09-20 23:29:31   \n",
       "\n",
       "  timedout_at  ... Cre_MinOfDay Ccl_Day_No_Week  Ccl_Day_Name  Ccl_Week_No  \\\n",
       "0         NaT  ...            7             3.0      Thursday         38.0   \n",
       "1         NaT  ...           44             NaN           NaN          NaN   \n",
       "2         NaT  ...            0             NaN           NaN          NaN   \n",
       "3         NaT  ...           31             NaN           NaN          NaN   \n",
       "4         NaT  ...           26             4.0        Friday         38.0   \n",
       "\n",
       "   Ccl_HourOfDay Ccl_MinOfDay cancel_create_diff timedout_created_diff  \\\n",
       "0            4.0          8.0                5.0                   NaT   \n",
       "1            NaN          NaN                NaN                   NaT   \n",
       "2            NaN          NaN                NaN                   NaT   \n",
       "3            NaN          NaN                NaN                   NaT   \n",
       "4           23.0         29.0              155.0                   NaT   \n",
       "\n",
       "  cre_can_less_5_sec         device  \n",
       "0               True     PIXI5-6_4G  \n",
       "1                NaN  tissot_sprout  \n",
       "2                NaN    deen_sprout  \n",
       "3                NaN          HWNXT  \n",
       "4              False      dream2lte  \n",
       "\n",
       "[5 rows x 33 columns]"
      ]
     },
     "execution_count": 309,
     "metadata": {},
     "output_type": "execute_result"
    }
   ],
   "source": [
    "df_req.head()"
   ]
  },
  {
   "cell_type": "code",
   "execution_count": 314,
   "metadata": {},
   "outputs": [],
   "source": [
    "#only top 40 id\n",
    "top_40_pass_list_sort_id = [i for i, j in pass_list_sort]\n",
    "\n",
    "#only top 40 id\n",
    "top_40_pass_list_sort_val = [j for i, j in pass_list_sort]"
   ]
  },
  {
   "cell_type": "code",
   "execution_count": null,
   "metadata": {},
   "outputs": [],
   "source": []
  },
  {
   "cell_type": "code",
   "execution_count": 318,
   "metadata": {},
   "outputs": [
    {
     "name": "stdout",
     "output_type": "stream",
     "text": [
      "lotus    392\n",
      "Name: device, dtype: int64\n",
      "albus               373\n",
      "athene_f              5\n",
      "c4e1751c489cb7ab      1\n",
      "Name: device, dtype: int64\n",
      "star2qltechn    359\n",
      "Name: device, dtype: int64\n",
      "HWTRT-Q    327\n",
      "Name: device, dtype: int64\n",
      "b2lssn    307\n",
      "Name: device, dtype: int64\n",
      "star2qltechn    282\n",
      "Name: device, dtype: int64\n",
      "HWWAS-H    307\n",
      "Name: device, dtype: int64\n",
      "HWNXT    361\n",
      "Name: device, dtype: int64\n",
      "HWPOT-H    290\n",
      "Name: device, dtype: int64\n",
      "b2lssn    323\n",
      "Name: device, dtype: int64\n",
      "woods_f    288\n",
      "Name: device, dtype: int64\n",
      "HWTRT-Q    295\n",
      "Name: device, dtype: int64\n",
      "HWPOT-H    283\n",
      "Name: device, dtype: int64\n",
      "HWANE    251\n",
      "Name: device, dtype: int64\n",
      "j7elte    295\n",
      "Name: device, dtype: int64\n",
      "HWNXT    331\n",
      "Name: device, dtype: int64\n",
      "HWTRT-Q    274\n",
      "Name: device, dtype: int64\n",
      "hwALE-H    412\n",
      "Name: device, dtype: int64\n",
      "b2lssn    272\n",
      "Name: device, dtype: int64\n",
      "HWNXT    270\n",
      "Name: device, dtype: int64\n",
      "HWTRT-Q    273\n",
      "Name: device, dtype: int64\n",
      "pettyl    275\n",
      "Name: device, dtype: int64\n",
      "HWTRT-Q    274\n",
      "Name: device, dtype: int64\n",
      "herolte    224\n",
      "Name: device, dtype: int64\n",
      "woods_f    247\n",
      "Name: device, dtype: int64\n",
      "HWTRT-Q    257\n",
      "Name: device, dtype: int64\n",
      "iPhone11,6    234\n",
      "Name: device, dtype: int64\n",
      "HWPOT-H    249\n",
      "Name: device, dtype: int64\n",
      "j4lte    210\n",
      "Name: device, dtype: int64\n",
      "HWTRT-Q    279\n",
      "Name: device, dtype: int64\n",
      "HWSTK-HF     203\n",
      "nora_8917     67\n",
      "Name: device, dtype: int64\n",
      "athene_f    239\n",
      "Name: device, dtype: int64\n",
      "HWTRT-Q    251\n",
      "Name: device, dtype: int64\n",
      "cereus    254\n",
      "Name: device, dtype: int64\n",
      "HWTRT-Q    288\n",
      "Name: device, dtype: int64\n",
      "HWSNE    185\n",
      "Name: device, dtype: int64\n",
      "channel    189\n",
      "Name: device, dtype: int64\n",
      "P731F12    253\n",
      "Name: device, dtype: int64\n",
      "HWMRD-M1    239\n",
      "Name: device, dtype: int64\n",
      "b2lssn    222\n",
      "Name: device, dtype: int64\n",
      "b2lssn    244\n",
      "Name: device, dtype: int64\n"
     ]
    }
   ],
   "source": [
    "#simple script to see what device the passenger with most cancellation request use (top 40) \n",
    "for i in range(len(top_40_pass_list_sort_id)):\n",
    "    print(df_req.loc[df_req[\"id_passenger\"] == top_40_pass_list_sort_id[i]][\"device\"].value_counts())"
   ]
  },
  {
   "cell_type": "code",
   "execution_count": 321,
   "metadata": {},
   "outputs": [
    {
     "data": {
      "text/plain": [
       "albus               373\n",
       "athene_f              5\n",
       "c4e1751c489cb7ab      1\n",
       "Name: device, dtype: int64"
      ]
     },
     "execution_count": 321,
     "metadata": {},
     "output_type": "execute_result"
    }
   ],
   "source": [
    "#please check the below passenger as he/she uses 3 separate devices\n",
    "df_req.loc[df_req[\"id_passenger\"] == top_40_pass_list_sort_id[1]][\"device\"].value_counts()"
   ]
  },
  {
   "cell_type": "code",
   "execution_count": 323,
   "metadata": {},
   "outputs": [
    {
     "data": {
      "text/plain": [
       "1195735680"
      ]
     },
     "execution_count": 323,
     "metadata": {},
     "output_type": "execute_result"
    }
   ],
   "source": [
    "top_40_pass_list_sort_id[1]"
   ]
  },
  {
   "cell_type": "markdown",
   "metadata": {},
   "source": [
    "<B> The above analysis shows that the passenger with id <font color = \"red\">  1195735680 </font> uses 3 different devices to log in and perform the requests. This seems little spooky but still further analysis is needed to support any statements </B>"
   ]
  },
  {
   "cell_type": "code",
   "execution_count": 324,
   "metadata": {},
   "outputs": [
    {
     "data": {
      "text/plain": [
       "HWSTK-HF     203\n",
       "nora_8917     67\n",
       "Name: device, dtype: int64"
      ]
     },
     "execution_count": 324,
     "metadata": {},
     "output_type": "execute_result"
    }
   ],
   "source": [
    "df_req.loc[df_req[\"id_passenger\"] == top_40_pass_list_sort_id[-11]][\"device\"].value_counts()"
   ]
  },
  {
   "cell_type": "code",
   "execution_count": 325,
   "metadata": {},
   "outputs": [
    {
     "data": {
      "text/plain": [
       "1757278340"
      ]
     },
     "execution_count": 325,
     "metadata": {},
     "output_type": "execute_result"
    }
   ],
   "source": [
    "top_40_pass_list_sort_id[-11]"
   ]
  },
  {
   "cell_type": "markdown",
   "metadata": {},
   "source": [
    "<B> The above analysis shows that the passenger with id <font color = \"red\">  1757278340 </font> uses 3 different devices to log in and perform the requests. This seems little spooky but still further analysis is needed to support any statements </B>"
   ]
  },
  {
   "cell_type": "markdown",
   "metadata": {},
   "source": [
    "<font color = \"blue\"> Let us check if these id are in the list of passengers who have cancelled with 5 seconds </font>"
   ]
  },
  {
   "cell_type": "code",
   "execution_count": 333,
   "metadata": {},
   "outputs": [],
   "source": [
    "pass_list_ind = [i for i,j in pass_list]"
   ]
  },
  {
   "cell_type": "code",
   "execution_count": 340,
   "metadata": {},
   "outputs": [
    {
     "data": {
      "text/plain": [
       "True"
      ]
     },
     "execution_count": 340,
     "metadata": {},
     "output_type": "execute_result"
    }
   ],
   "source": [
    "1757278340 in pass_list_ind"
   ]
  },
  {
   "cell_type": "code",
   "execution_count": 341,
   "metadata": {},
   "outputs": [
    {
     "data": {
      "text/plain": [
       "True"
      ]
     },
     "execution_count": 341,
     "metadata": {},
     "output_type": "execute_result"
    }
   ],
   "source": [
    "1195735680 in pass_list_ind"
   ]
  },
  {
   "cell_type": "markdown",
   "metadata": {},
   "source": [
    "<B> <font color = \"green\"> Surprisingly these Passenger have cancelled requests within five seconds from the time of booking </font> <B>"
   ]
  },
  {
   "cell_type": "code",
   "execution_count": 342,
   "metadata": {},
   "outputs": [
    {
     "data": {
      "text/plain": [
       "210164"
      ]
     },
     "execution_count": 342,
     "metadata": {},
     "output_type": "execute_result"
    }
   ],
   "source": [
    "#fetching the index of the passenger ID 1757278340 to extract the number of cancelled requests under 5 seconds\n",
    "pass_list_ind.index(1757278340)"
   ]
  },
  {
   "cell_type": "code",
   "execution_count": 343,
   "metadata": {},
   "outputs": [
    {
     "data": {
      "text/plain": [
       "210193"
      ]
     },
     "execution_count": 343,
     "metadata": {},
     "output_type": "execute_result"
    }
   ],
   "source": [
    "#fetching the index of the passenger ID 1195735680 to extract the number of cancelled requests under 5 seconds\n",
    "pass_list_ind.index(1195735680)"
   ]
  },
  {
   "cell_type": "code",
   "execution_count": 344,
   "metadata": {},
   "outputs": [
    {
     "data": {
      "text/plain": [
       "(1757278340, 185)"
      ]
     },
     "execution_count": 344,
     "metadata": {},
     "output_type": "execute_result"
    }
   ],
   "source": [
    "pass_list[210164]"
   ]
  },
  {
   "cell_type": "code",
   "execution_count": 345,
   "metadata": {},
   "outputs": [
    {
     "data": {
      "text/plain": [
       "(1195735680, 338)"
      ]
     },
     "execution_count": 345,
     "metadata": {},
     "output_type": "execute_result"
    }
   ],
   "source": [
    "pass_list[210193]"
   ]
  },
  {
   "cell_type": "markdown",
   "metadata": {},
   "source": [
    "Pass_list contains the list of tuples, with each tuple containing 2 elements. <font color = \"blue\">Passenger id and their respective number of cancellation requests under 5 seconds. </font>.<B> These two passengers who have used different devices to make requests (which is a bit uncommon) and have around   <font color = \"red\"> 185 and 338  </font> cancelled requests with 5 seconds (which is uncommon as well) </B>"
   ]
  },
  {
   "cell_type": "code",
   "execution_count": null,
   "metadata": {},
   "outputs": [],
   "source": [
    "import numpy as np # linear algebra\n",
    "import pandas as pd # data processing, CSV file I/O (e.g. pd.read_csv)\n",
    "import seaborn as sns\n",
    "color = sns.color_palette()\n",
    "import matplotlib\n",
    "import matplotlib.pyplot as plt\n",
    "%matplotlib inline\n",
    "import datetime\n",
    "\n",
    "# Input data files are available in the \"../input/\" directory.\n",
    "# For example, running this (by clicking run or pressing Shift+Enter) will list all files under the input directory\n",
    "\n",
    "import os\n",
    "for dirname, _, filenames in os.walk('/kaggle/input'):\n",
    "    for filename in filenames:\n",
    "        print(os.path.join(dirname, filename))\n",
    "\n",
    "# Any results you write to the current directory are saved as output.\n",
    "\n",
    "df_ride = pd.read_csv(\"/kaggle/input/taxi-mexico-data/ride.csv\")\n",
    "\n",
    "\n",
    "print(df_ride[\"revenue\"].min())\n",
    "print(df_ride[\"revenue\"].max())\n",
    "print(df_ride[\"revenue\"].mean())\n",
    "print(df_ride[\"revenue\"].std())\n",
    "\n",
    "df_ride.isnull().sum(axis = 0)\n",
    "\n",
    "\n",
    "\n",
    "sns.set()\n",
    "sns.pairplot(df_ride[['distance', 'revenue', 'ride_total_distance', 'duration']], size = 6)\n",
    "plt.show()\n",
    "\n",
    "\n",
    "sns.set()\n",
    "sns.pairplot(df_ride[['distance', 'revenue', 'ride_total_distance', 'duration']], size = 3)\n",
    "plt.show()\n",
    "\n",
    "\n",
    "\n",
    "revenue_dist_row = df_ride.loc[(df_ride[\"distance\"] > 10) & (df_ride[\"revenue\"] == 0.0)]\n",
    "total_dist_revenue_row = df_ride.loc[(df_ride[\"ride_total_distance\"] == 0) & (df_ride[\"revenue\"] > 0.0)]\n",
    "duration_revenue_row = df_ride.loc[(df_ride[\"revenue\"] == 0) & (df_ride[\"duration\"] > 0.0)]"
   ]
  }
 ],
 "metadata": {
  "kernelspec": {
   "display_name": "Python 3",
   "language": "python",
   "name": "python3"
  },
  "language_info": {
   "codemirror_mode": {
    "name": "ipython",
    "version": 3
   },
   "file_extension": ".py",
   "mimetype": "text/x-python",
   "name": "python",
   "nbconvert_exporter": "python",
   "pygments_lexer": "ipython3",
   "version": "3.7.3"
  }
 },
 "nbformat": 4,
 "nbformat_minor": 2
}
